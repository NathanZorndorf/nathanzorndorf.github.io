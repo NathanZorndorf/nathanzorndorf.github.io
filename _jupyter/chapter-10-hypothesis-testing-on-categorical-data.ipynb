{
 "cells": [
  {
   "cell_type": "markdown",
   "metadata": {},
   "source": [
    "Topics covered in this chapter:\n",
    "- 10.2 Two Sample Test for Binomial Proportions\n",
    "- 10.3 Fisher's Exact Test\n",
    "- 10.4 Two Sample Test for Binomial Proportions for Matched Data (McNemar's Test)\n",
    "- 10.5 Estimation of Sample Size and Power for Comparing Two Binomial Proportions\n",
    "- 10.6 RxC Contingency Tables\n",
    "- 10.7 Chi-Square Goodness of Fit Test\n",
    "- 10.8 The Kappa Statistic\n",
    "\n"
   ]
  },
  {
   "cell_type": "markdown",
   "metadata": {},
   "source": [
    "Useful Links:\n",
    "1. https://www.statsmodels.org/stable/stats.html\n",
    "2. https://influentialpoints.com/Sitemap.htm"
   ]
  },
  {
   "cell_type": "markdown",
   "metadata": {},
   "source": [
    "# 10.2 - Two Sample Test for Binomial Proportions\n",
    "\n",
    "Testing for equivalency of proportions/rates (p<sub>1</sub> == p<sub>2</sub>)."
   ]
  },
  {
   "cell_type": "markdown",
   "metadata": {},
   "source": [
    "## Normal-Theory method"
   ]
  },
  {
   "cell_type": "markdown",
   "metadata": {},
   "source": [
    "**Assumptions**:\n",
    "1. Normal approximation of the binomial distribution is valid (n<sub>1</sub>pq >= 5 && n<sub>2</sub>pq >= 5)\n",
    "\n",
    "**Hypotheses:**\n",
    "1. H<sub>0</sub>: p<sub>1</sub> == p<sub>2</sub>\n",
    "2. H<sub>a</sub>: p<sub>1</sub> != p<sub>2</sub>\n",
    "\n",
    "**Mechanics**:\n",
    "1. Python:<br>\n",
    "    `statsmodels.stats.proportion.proportions_ztest(count, nobs, value=None, alternative='two-sided', prop_var=False)`\n",
    "    Note that this does not include a continuity correction factor.\n",
    "2. R<br>\n",
    "    "
   ]
  },
  {
   "cell_type": "markdown",
   "metadata": {},
   "source": [
    "### Example 10.4 on page 373\n",
    "The set of women with at least one birth was arbitrarily divided into two catego- ries: (1) women whose age at first birth was ≤29 years and (2) women whose age at first birth was ≥30 years. The following results were found among women with at least one birth: 683 of 3220 (21.2%) women with breast cancer (case women) and 1498 of 10,245 (14.6%) women without breast cancer (control women) had an age at first birth ≥30. How can we assess whether this difference is significant or simply due to chance?"
   ]
  },
  {
   "cell_type": "code",
   "execution_count": 18,
   "metadata": {},
   "outputs": [
    {
     "name": "stdout",
     "output_type": "stream",
     "text": [
      "2537 11284\n",
      "683 2181\n",
      "0.22483161999291032 0.3131591013296653\n"
     ]
    },
    {
     "data": {
      "text/plain": [
       "(-8.852674168440814, 8.544684355750345e-19)"
      ]
     },
     "execution_count": 18,
     "metadata": {},
     "output_type": "execute_result"
    }
   ],
   "source": [
    "from statsmodels.stats.proportion import proportions_ztest\n",
    "# proportions_ztest(count, nobs, value=None, alternative='two-sided', prop_var=False)\n",
    "\n",
    "# we want to see whether women whose age is >= 30 have a different rate of breast cancer\n",
    "# compared with women whose age is <= 29\n",
    "\n",
    "# so we have two samples: age <= 29, and age >= 30\n",
    "# with two events each: breast cancer (case), and no breast cancer (control) \n",
    "\n",
    "n_total = 3220 + 10245 # total women participants in study\n",
    "x_total = 3220\n",
    "n_30 = 683 + 1498\n",
    "n_29 = n_total - n_30\n",
    "\n",
    "x_30 = 683\n",
    "x_29 = x_total - x_30\n",
    "\n",
    "# compute proportions\n",
    "p_29 = x_29 / n_29\n",
    "p_30 = x_30 / n_30\n",
    "\n",
    "print(x_29, n_29)\n",
    "print(x_30, n_30)\n",
    "print(p_29, p_30)\n",
    "\n",
    "count = [x_29, x_30]\n",
    "nobs = [n_29, n_30]\n",
    "proportions_ztest(count, nobs, value=None, alternative='two-sided', prop_var=False)"
   ]
  },
  {
   "cell_type": "markdown",
   "metadata": {},
   "source": [
    "The rate of beast cancer among women who are >=30 is significantly different from the rate of breast cancer among women age <= 29."
   ]
  },
  {
   "cell_type": "markdown",
   "metadata": {},
   "source": [
    "## Chi-Squared Test for Homogeneity of Binomial Proportions (Contingency Table Method)\n",
    "\n",
    "**Test for Homogeneity of Binomial Proportions**: Test whether proportions are the same in two independent samples.\n",
    "\n",
    "**Test of Independence / Test of Association**: Test whether there is some association between two measures.\n",
    "\n",
    "Both tests use the same procedure. \n",
    "\n",
    "|                        |Dies (event == 1)|Survives (event == 0)| \n",
    "|---                     |---              |---                  | \n",
    "|Case (treatment == 1)   |                 |                     |\n",
    "|Control (treatment == 0)|                 |                     |\n",
    "\n",
    "variables:\n",
    "- treatment (or condition)\n",
    "- event (or outcome)\n",
    "\n",
    "unit of analysis/measurement:\n",
    "- number of individuals with treatment & event\n",
    "\n",
    "**Assumptions**:\n",
    "1. No cell in the observed AND expected value table is < 5\n",
    "2. Samples are independent (unpaired)\n",
    "\n",
    "**Hypotheses:**<br>\n",
    "Stated in terms of homogeneity of binomial proportions...\n",
    "1. H0: p1 = p2 \n",
    "2. Ha: p1 ≠ p2\n",
    "\n",
    "Stated in terms of association / independence...\n",
    "1. H0: there is no association between the two variables (treatment & outcome), i.e. treatment has no effect on outcome, i.e. rates of the outcome are the same for each treatment group, i.e. p1 = p2\n",
    "2. Ha: there is an association between the two variables (treatment & outcome).\n",
    "\n",
    "**Test Statistic:** <br>\n",
    "Pearson chi-square statistic or Yates-corrected chi-square statistic\n",
    "\n",
    "**Yate's Continuity Correction:**<br>\n",
    "*Applying Yate's Continuity Correction increase the p-value, causing results to become less significant... So it is suggested that Yates's correction is unnecessary even with quite low sample sizes... (from https://en.wikipedia.org/wiki/Yates%27s_correction_for_continuity)*\n",
    "\n",
    "*Other sources recommend using Yate's Continuity Correction when the total observations < 40, and others put that number at 20...*\n",
    "https://www.sciencedirect.com/topics/medicine-and-dentistry/yates-continuity-correction#:~:text=Chi%2Dsquare%20analysis%20with%20greater,tables%20is%20less%20than%2040.\n",
    "\n",
    "**Mechanics**:\n",
    "\n",
    "Form a 2 × 2 table of matched pairs, where the outcomes for the treatment A members of the matched pairs are listed along the rows and the outcomes for the treatment B members are listed along the columns.\n",
    "\n",
    "1. Python:<br>\n",
    "    `scipy.stats.chi2_contingency(observed, correction=True, lambda_=None)`\n",
    "2. R<br>\n",
    "    `chisq.test(x, y)`\n",
    "    x and y are two vectors corresponding to two variables. "
   ]
  },
  {
   "cell_type": "markdown",
   "metadata": {},
   "source": [
    "### Example 10.13\n",
    "\n",
    "Assess the breast-cancer data in Example 10.4 (p. 373) for statistical signifi- cance, using a contingency-table approach."
   ]
  },
  {
   "cell_type": "code",
   "execution_count": 43,
   "metadata": {},
   "outputs": [
    {
     "name": "stdout",
     "output_type": "stream",
     "text": [
      "[[ 683 2537]\n",
      " [1498 8747]]\n",
      "77.88514590360013 1.092095682798281e-18\n",
      "1\n",
      "[[ 521.56108429 2698.43891571]\n",
      " [1659.43891571 8585.56108429]]\n"
     ]
    }
   ],
   "source": [
    "# if columns are age >=30, age <= 29\n",
    "# and rows are case, control\n",
    "obs = np.array([[x_30,x_29],[n_30-x_30, n_29-x_29]])\n",
    "print(obs)\n",
    "\n",
    "from scipy.stats import chi2_contingency\n",
    "chi2, p, dof, exp = chi2_contingency(obs, correction=True)\n",
    "print(chi2, p)\n",
    "print(dof)\n",
    "print(exp)"
   ]
  },
  {
   "cell_type": "code",
   "execution_count": 39,
   "metadata": {},
   "outputs": [
    {
     "name": "stdout",
     "output_type": "stream",
     "text": [
      "8.544684355750283e-19\n"
     ]
    }
   ],
   "source": [
    "chi2, p, dof, exp = chi2_contingency(obs, correction=False)\n",
    "print(p)"
   ]
  },
  {
   "cell_type": "markdown",
   "metadata": {},
   "source": [
    "Note that with `correction=False` we achieve the same p-value as using `statsmodels` z-test for proportions. "
   ]
  },
  {
   "cell_type": "markdown",
   "metadata": {},
   "source": [
    "# 10.3 - Fisher's Exact Test\n",
    "\n",
    "Used when the Normal Approximation to the binomial distribution is not valid (for instance, because of small sample size).\n",
    "\n",
    "**Hypotheses**\n",
    "\n",
    "H0:p1 = p2<br>\n",
    "H1:p1 ≠ p2<br>\n",
    "    \n",
    "**Mechanics**:\n",
    "1. Python<br>\n",
    "    `scipy.stats.fisher_exact(table, alternative='two-sided')`\n",
    "2. R"
   ]
  },
  {
   "cell_type": "code",
   "execution_count": 42,
   "metadata": {},
   "outputs": [
    {
     "data": {
      "text/plain": [
       "(1.5719819304467446, 5.8734739293297086e-18)"
      ]
     },
     "execution_count": 42,
     "metadata": {},
     "output_type": "execute_result"
    }
   ],
   "source": [
    "from scipy.stats import fisher_exact\n",
    "fisher_exact(obs, alternative='two-sided')"
   ]
  },
  {
   "cell_type": "markdown",
   "metadata": {},
   "source": [
    "# 10.4 - McNemar's Test \n",
    "Otherwise known as a <br>\n",
    "**Two Sample Test for Binomial Proportions for Matched Data** or <br>\n",
    "**McNemar's Test for Correlated Proportions**\n",
    "\n",
    "Data is recast into a count of **discordant type A pairs** and **discordant type B pairs**, where \n",
    "\n",
    "|                    |Person B Survives|Person B Dies   | \n",
    "|---                 |---              |---             | \n",
    "|person A Survives   |                 |n<sub>B</sub>   |\n",
    "|person A Dies       |n<sub>A</sub>    |                |\n",
    "\n",
    "variables:\n",
    "- outcome of person A in pair\n",
    "- outcome of person B in pair\n",
    "\n",
    "unit of analysis/measurement:\n",
    "- number of pairs\n",
    "    \n",
    "**Hypotheses:**<br>\n",
    "1. H0: p = 0.5, p = Pr(discordant pair is of type A)\n",
    "2. Ha: p != 0.5\n",
    "\n",
    "**Assumptions**:\n",
    "1. Normal approximation to binomial distribution holds (n<sub>D</sub> >= 20, where n<sub>D</sub> = total # of discordant pairs)<br>\n",
    "    a. If this assumption can not be held, then an exact test based on exact binomial probabilities must be used. \n",
    "    \n",
    "**Test Statistic**:<br>\n",
    "Count the total number of discordant pairs $\\left(n_{D}\\right)$ and the number of type $A$ discordant pairs $\\left(n_{A}\\right)$.<br>\n",
    "Compute the test statistic\n",
    "$$\n",
    "X^{2}=\\left(\\left|n_{A}-\\frac{n_{D}}{2}\\right|-\\frac{1}{2}\\right)^{2} /\\left(\\frac{n_{D}}{4}\\right)\n",
    "$$\n",
    "An equivalent version of the test statistic is also given by\n",
    "$$X^{2}=\\left(\\left|n_{A}-n_{B}\\right|-1\\right)^{2} /\\left(n_{A}+n_{B}\\right)$$\n",
    "where $n_{p}=$ number of type $\\mathrm{B}$ discordant pairs.\n",
    "\n",
    "**Mechanics**:\n",
    "1. Python<br>\n",
    "    `statsmodels.stats.contingency_tables.mcnemar(table, exact=True, correction=True)`<br>\n",
    "    `exact=True` must be set to True if small sample size (n<sub>D</sub> < 20), but equally valid for large samples.\n",
    "2. R<br>\n",
    "    if x and y are vectors of the raw data:<br>\n",
    "    `mcnemar.test(x, y)` <br>\n",
    "    if starting with summary data:<br>\n",
    "    `table<- matrix(c(a,c,b,d), nrow = 2)`<br>\n",
    "    `mcnemar.test(table)`"
   ]
  },
  {
   "cell_type": "markdown",
   "metadata": {},
   "source": [
    "### Example 10.23\n",
    "\n",
    "Compare the effect of treatment A vs treatment B in terms of survival rates for the *paired* cancer patients."
   ]
  },
  {
   "cell_type": "code",
   "execution_count": 55,
   "metadata": {},
   "outputs": [],
   "source": [
    "from statsmodels.stats.contingency_tables import mcnemar"
   ]
  },
  {
   "cell_type": "code",
   "execution_count": 58,
   "metadata": {},
   "outputs": [],
   "source": [
    "# columns are Event: survive w/ in 5 years (event == 0), death w/ in 5 years (event == 1)\n",
    "# rows are Case/Control: treatment A (case), treatment B (control)\n",
    "raw_data = [[526, 95],[515, 106]]"
   ]
  },
  {
   "cell_type": "code",
   "execution_count": 59,
   "metadata": {},
   "outputs": [
    {
     "data": {
      "text/plain": [
       "(0.5935739171577272,\n",
       " 0.4410404253228085,\n",
       " 1,\n",
       " array([[520.5, 100.5],\n",
       "        [520.5, 100.5]]))"
      ]
     },
     "execution_count": 59,
     "metadata": {},
     "output_type": "execute_result"
    }
   ],
   "source": [
    "# if we assume independence of data...\n",
    "chi2_contingency(raw_data)"
   ]
  },
  {
   "cell_type": "markdown",
   "metadata": {},
   "source": [
    "Result is not significant at 5% level."
   ]
  },
  {
   "cell_type": "markdown",
   "metadata": {},
   "source": [
    "However the data is not independent, so we re-cast it in terms of **discordant** and **concordant** events, and test the Null hypothesis of p == 0.5, where p = the probability that a discordant event is of type A (patient A has the event, and patient B does not).\n",
    "\n",
    "Thus we test whether there is a difference in survival rates between treatment A and treatment B."
   ]
  },
  {
   "cell_type": "code",
   "execution_count": 73,
   "metadata": {},
   "outputs": [
    {
     "data": {
      "text/plain": [
       "(4.761904761904762, 0.029096331741252267)"
      ]
     },
     "execution_count": 73,
     "metadata": {},
     "output_type": "execute_result"
    }
   ],
   "source": [
    "## using the pair as the unit of observation, instead of the individual\n",
    "obs = [[510, 16],[5, 90]]\n",
    "\n",
    "bunch = mcnemar(obs, exact=False, correction=True)\n",
    "bunch.statistic, bunch.pvalue"
   ]
  },
  {
   "cell_type": "markdown",
   "metadata": {},
   "source": [
    "The p-value is significant at the 5% level, meaning that the effects of treatment A and treatment B are not the same. \n",
    "\n",
    "The text says \"We conclude that if the treatments give different results from each other for the members of a matched pair, then the treatment A member of the pair is significantly more likely to survive for 5 years than the treatment B member\" but H0 is just testing if there is a difference in proportions, not whether one proportion is bigger or smaller than the other - ***so did the author make a mistake?***"
   ]
  },
  {
   "cell_type": "markdown",
   "metadata": {},
   "source": [
    "### Review Questions 10C"
   ]
  },
  {
   "cell_type": "code",
   "execution_count": 74,
   "metadata": {},
   "outputs": [
    {
     "data": {
      "text/plain": [
       "(0.05555555555555555, 0.8136637157667919)"
      ]
     },
     "execution_count": 74,
     "metadata": {},
     "output_type": "execute_result"
    }
   ],
   "source": [
    "obs = [[45, 8],[10, 3]]\n",
    "\n",
    "bunch = mcnemar(obs, exact=False, correction=True)\n",
    "bunch.statistic, bunch.pvalue"
   ]
  },
  {
   "cell_type": "markdown",
   "metadata": {},
   "source": [
    "# 10.5 - Estimation of Sample Size and Power for Comparing Two Binomial Proportions"
   ]
  },
  {
   "cell_type": "markdown",
   "metadata": {},
   "source": [
    "## Independent Samples\n",
    "\n",
    "**Sample Size Needed to Compare Two Binomial Proportions Using a Two-Sided Test with Significance Level $\\alpha$ and Power $1-\\beta,$ Where One Sample $\\left(n_{2}\\right)$ Is $k$ Times as Large as the Other Sample $\\left(n_{1}\\right)$ (Independent-Sample Case)**\n",
    "\n",
    "To test the hypothesis $H_{0}: p_{1}=p_{2}$ vs. $H_{1}: p_{1} \\neq p_{2}$ for the specific alternative $\\left|p_{1}-p_{2}\\right|=\\Delta,$ with a significance level $\\alpha$ and power $1-\\beta,$ the following sample size is required\n",
    "$$\n",
    "n_{1}=\\left[\\sqrt{\\bar{p} \\bar{q}\\left(1+\\frac{1}{k}\\right)} z_{1-\\alpha / 2}+\\sqrt{p_{1} q_{1}+\\frac{p_{2} q_{2}}{k}} z_{1-\\beta}\\right]^{2} / \\Delta^{2}\n",
    "$$\n",
    "where $p_{1}, p_{2}=$ projected true probabilities of success in the two groups\n",
    "$$n_{2}=k n_{1}$$\n",
    "$$q_{1}, q_{2}=1-p_{1}, 1-p_{2}$$\n",
    "$$\\Delta=\\left|p_{2}-p_{1}\\right|$$\n",
    "$$\n",
    "\\begin{array}{l}\n",
    "\\bar{p}=\\frac{p_{1}+k p_{2}}{1+k} \\\\\n",
    "\\bar{q}=1-\\bar{p}\n",
    "\\end{array}\n",
    "$$\n",
    "\n",
    "\n",
    "Note: To perform a one-tailed rather than a two-tailed test, simply substitute α for α/2 in the sample-size formula in Equation\n",
    "\n",
    "*To adjust for non-compliance rates, the following formula can be used to calculate adjusted rates, which can then be used in the normal power and sample estimate calculations (I haven't verified this! just took it from the book):*\n",
    "$$\n",
    "\\begin{aligned}\n",
    "p_{1}^{*} &=\\left(1-\\lambda_{1}\\right) p_{1}+\\lambda_{1} p_{2} \\\\\n",
    "p_{2}^{*} &=\\left(1-\\lambda_{2}\\right) p_{2}+\\lambda_{2} p_{1} \\\\\n",
    "\\end{aligned}\n",
    "$$\n",
    "\n",
    "**Mechanics**:\n",
    "1. Python<br>\n",
    "    `statsmodels.stats.power.zt_ind_solve_power(effect_size=None, nobs1=None, alpha=None, power=None, ratio=1.0, alternative='two-sided')`<br>\n",
    "    `alternative`: one of `['two-sided','larger','smaller']`<br> \n",
    "    `effect_size`: standardized effect size, difference between the two means divided by the standard deviation. This can be derived using a convenience function within statsmodels:\n",
    "    `statsmodels.stats.proportion.proportion_effectsize(prop1, prop2, method='normal')`\n",
    "    \n",
    "    exactly one needs to be None, all others need numeric values<br>"
   ]
  },
  {
   "cell_type": "markdown",
   "metadata": {},
   "source": [
    "### Example 10.29 - sample size estimation for test of binomial proportions with perfect compliance, un-paired case"
   ]
  },
  {
   "cell_type": "code",
   "execution_count": 89,
   "metadata": {},
   "outputs": [],
   "source": [
    "power = 0.8\n",
    "alpha = 0.05\n",
    "ratio = 1.0\n",
    "nobs1 = None # variable in question"
   ]
  },
  {
   "cell_type": "code",
   "execution_count": 81,
   "metadata": {},
   "outputs": [],
   "source": [
    "p1 = 150 / 100000\n",
    "q1 = 1 - p1"
   ]
  },
  {
   "cell_type": "code",
   "execution_count": 100,
   "metadata": {},
   "outputs": [],
   "source": [
    "p2 = p1 * 0.8\n",
    "q2 = 1 - p2"
   ]
  },
  {
   "cell_type": "markdown",
   "metadata": {},
   "source": [
    "$$\n",
    "z=\\left(\\hat{p}_{1}-\\hat{p}_{2}\\right) / \\sqrt{p q\\left(1 / n_{1}+1 / n_{2}\\right)} \\sim N(0,1)\n",
    "$$\n",
    "The problem is that $p$ and $q$ are unknown, and thus the denominator of $z$ cannot be computed unless some estimate for $p$ is found. The best estimator for $p$ is based on a weighted average of the sample proportions $\\hat{p}_{1}, \\hat{p}_{2} .$ This weighted average, referred to as $\\hat{p},$ is given by\n",
    "$$\n",
    "\\hat{p}=\\frac{n_{1} \\hat{p}_{1}+n_{2} \\hat{p}_{2}}{n_{1}+n_{2}}=\\frac{x_{1}+x_{2}}{n_{1}+n_{2}}\n",
    "$$"
   ]
  },
  {
   "cell_type": "code",
   "execution_count": 103,
   "metadata": {},
   "outputs": [
    {
     "data": {
      "text/plain": [
       "234420.56999151243"
      ]
     },
     "execution_count": 103,
     "metadata": {},
     "output_type": "execute_result"
    }
   ],
   "source": [
    "import statsmodels.stats.api as sms\n",
    "es = sms.proportion_effectsize(prop1=p1, prop2=p2, method='normal')\n",
    "n = sms.NormalIndPower().solve_power(es, nobs1, alpha, power, ratio, alternative='two-sided')\n",
    "n"
   ]
  },
  {
   "cell_type": "code",
   "execution_count": 106,
   "metadata": {},
   "outputs": [],
   "source": [
    "effect_size = es"
   ]
  },
  {
   "cell_type": "code",
   "execution_count": 107,
   "metadata": {},
   "outputs": [
    {
     "name": "stdout",
     "output_type": "stream",
     "text": [
      "234420.56999151243\n"
     ]
    }
   ],
   "source": [
    "from statsmodels.stats.power import zt_ind_solve_power\n",
    "n = zt_ind_solve_power(effect_size, nobs1, alpha, power, ratio, alternative='two-sided')\n",
    "print(n)"
   ]
  },
  {
   "cell_type": "markdown",
   "metadata": {},
   "source": [
    "Both functions give the same answer as the text."
   ]
  },
  {
   "cell_type": "markdown",
   "metadata": {},
   "source": [
    "### Example 10.37 - estimation of sample size needed for test of binomial proportions with non-compliance rates\n",
    "\n",
    "Refer to Example 10.36. Suppose we assume that the incidence of MI is .005 per year among participants who actually take placebo and that aspirin prevents 20% of MIs (i.e., relative risk = p1/p2 = 0.8). We also assume that the duration of the study is 5 years and that the dropout rate in the aspirin group = 10% and the drop- in rate in the placebo group = 5%. How many participants need to be enrolled in each group to achieve 80% power using a two-sided test with significance level = .05?"
   ]
  },
  {
   "cell_type": "markdown",
   "metadata": {},
   "source": [
    "*The incidence of MI is 0.005 **per year** for the placebo group, therefore the 5-year incidence rate of MI is 5 * 0.005 = 0.025*"
   ]
  },
  {
   "cell_type": "code",
   "execution_count": 7,
   "metadata": {},
   "outputs": [],
   "source": [
    "p1 = 0.025\n",
    "p2 = 0.02 # p1/p2 = 0.8\n",
    "power = 0.8\n",
    "alpha = 0.05\n",
    "ratio = 1\n",
    "nobs1 = None # variable in question"
   ]
  },
  {
   "cell_type": "code",
   "execution_count": 10,
   "metadata": {},
   "outputs": [],
   "source": [
    "import statsmodels.stats.api as sms"
   ]
  },
  {
   "cell_type": "code",
   "execution_count": 28,
   "metadata": {},
   "outputs": [
    {
     "name": "stdout",
     "output_type": "stream",
     "text": [
      "13768 13768\n",
      "Total sample size needed =  27536\n"
     ]
    }
   ],
   "source": [
    "# first calculate sample size needed assuming compliance is perfect\n",
    "es = sms.proportion_effectsize(prop1=p1, prop2=p2, method='normal')\n",
    "n_perfect_compliance = sms.NormalIndPower().solve_power(es, nobs1, alpha, power, ratio=1, alternative='two-sided')\n",
    "n1 = round(n_perfect_compliance)\n",
    "n2 = n1\n",
    "print(n1, n2)\n",
    "print('Total sample size needed = ', n1 + n2)"
   ]
  },
  {
   "cell_type": "code",
   "execution_count": 29,
   "metadata": {},
   "outputs": [
    {
     "name": "stdout",
     "output_type": "stream",
     "text": [
      "19056 19056\n",
      "Total sample size needed =  38112\n"
     ]
    }
   ],
   "source": [
    "# calculate sample size needed factoring in dropout and dropin rates\n",
    "gamma1 = 0.1\n",
    "gamma2 = 0.05\n",
    "# From equation 10.17 in the book, we can use the approximation since both gamma1 and gamma2 are <= 0.1\n",
    "n1 = n_perfect_compliance / (1 - gamma1 - gamma2) ** 2 \n",
    "n1 = round(n1)\n",
    "n2 = n1\n",
    "print(n1, n2)\n",
    "print('Total sample size needed = ', n1 + n2)"
   ]
  },
  {
   "cell_type": "markdown",
   "metadata": {},
   "source": [
    "## Paired Samples\n",
    "\n",
    "Sample Size Needed to Compare Two Binomial Proportions Using a Two-Sided Test with Significance Level $\\alpha$ and Power $1-\\beta$ (Paired-Sample Case)\n",
    "\n",
    "If McNemar's test for correlated proportions is used to test the hypothesis $H_{0}: p=\\frac{1}{2}$ vs. $H_{1}: p \\neq \\frac{1}{2},$ for the specific alternative $p=p_{A^{\\prime}}$, where $p=$ the probability that a discordant pair is of type $A$, with a significance level of $\\alpha$ and power\n",
    "$1-\\beta,$ then use\n",
    "$$\n",
    "n=\\frac{\\left(z_{1-\\alpha / 2}+2 z_{1-\\beta} \\sqrt{p_{A} q_{A}}\\right)^{2}}{4\\left(p_{A}-.5\\right)^{2} p_{D}} \\text { matched pairs }\n",
    "$$\n",
    "$$\n",
    "\\text { or } 2 n=\\frac{\\left(z_{1-\\alpha / 2}+2 z_{1-\\beta} \\sqrt{p_{A} q_{A}}\\right)^{2}}{2\\left(p_{A}-.5\\right)^{2} p_{D}} \\text { individuals }\n",
    "$$\n",
    "$p_{D}=$ projected proportion of discordant pairs among all pairs<br>\n",
    "$p_{A}=$ projected proportion of discordant pairs of type A among discordant pairs\n",
    "\n",
    "**Power Achieved in Comparing Two Binomial Proportions Using a Two-Sided Test\n",
    "with Significance Level α (Paired-Sample Case)**<br>\n",
    "If McNemar's test for correlated proportions is used to test the hypothesis $H_{0}: p=1 / 2$ vs. $H_{1}: p \\neq 1 / 2,$ for the specific alternative $p=p_{A^{\\prime}}$, where $p=$ the probability that a discordant pair is of type A,\n",
    "$$\n",
    "=\\Phi\\left[\\frac{1}{2 \\sqrt{p_{A} q_{A}}}\\left(z_{\\alpha / 2}+2\\left|p_{A}-.5\\right| \\sqrt{n p_{D}}\\right)\\right]\n",
    "$$\n",
    "where\n",
    "$n=$ number of matched pairs\n",
    "$p_{D}=$ projected proportion of discordant pairs among all pairs\n",
    "$p_{A}=$ projected proportion of discordant pairs of type A among discordant pairs\n",
    "\n",
    "**Mechanics**:\n",
    "1. Python\n",
    "    <br>I'm not sure this has been implemented in Python, although that's a bit hard for me to believe, but I can't find it. I would think it would be in this list, but it doesn't seem to be: https://www.statsmodels.org/stable/stats.html#power-and-sample-size-calculations\n",
    "2. R<br>\n",
    "    `power.mcnemar.test(n = NULL, paid = NULL, psi = NULL, sig.level = 0.05, power = NULL, alternative = c(\"two.sided\", \"one.sided\"), method = c(\"normal\", \"exact\"))`"
   ]
  },
  {
   "cell_type": "code",
   "execution_count": 131,
   "metadata": {},
   "outputs": [
    {
     "name": "stdout",
     "output_type": "stream",
     "text": [
      "602.2579859093038 matched pairs\n"
     ]
    }
   ],
   "source": [
    "from scipy import stats\n",
    "alpha = 0.05\n",
    "power = 0.9\n",
    "z1 = stats.norm.ppf(1-alpha/2)\n",
    "z2 = stats.norm.ppf(power)\n",
    "pa = 2/3\n",
    "qa = 1-pa\n",
    "pd = 0.15\n",
    "\n",
    "n = (z1 + 2 * z2 * np.sqrt(pa*qa))**2 / (4 * (pa - 0.5)**2 * pd)\n",
    "print(n, 'matched pairs')"
   ]
  },
  {
   "cell_type": "markdown",
   "metadata": {},
   "source": [
    "# 10.6 RxC Contingency Tables\n",
    "\n",
    "R rows and C columns.\n",
    "\n",
    "**Assumptions**:\n",
    "1. No more than 1/5 of the cells have expected values < 5. and\n",
    "2. No cell has an expected value < 1.\n",
    "\n",
    "**Hypotheses**:<br>\n",
    "H0: All groups come from the same underlying population distribution<br>\n",
    "Ha: There are at least 2 distinct underlying population distributions<br>\n",
    "\n",
    "**For the special case of a 2 × k table**, this test procedure enables us to test the hypothesis:<br>\n",
    "H0: p1=p2=...=pk<br>\n",
    "Ha:at least two of the pi’s are unequal, where p = probability of success for the ith group = probability that an observation from the ith column falls in the first row. \n",
    "\n",
    "**Mechanics**:\n",
    "1. Python<br>\n",
    "    `scipy.stats.chi2_contingency(observed)`"
   ]
  },
  {
   "cell_type": "markdown",
   "metadata": {},
   "source": [
    "## Chi-Square Test for Trend in Binomial Proportions\n",
    "\n",
    "\n",
    "Suppose there are k groups and we want to test whether there is an increasing (or decreasing) trend in the proportion of “successes” p<sub>i</sub> (the proportion of units in the first row of the ith group) as i increases.\n",
    "\n",
    "**Mechanics**:\n",
    "1. Python<br>\n",
    "    Couldn't find one.\n",
    "2. R<br>\n",
    "    `prop.trend.test(x, n, score)`"
   ]
  },
  {
   "cell_type": "markdown",
   "metadata": {},
   "source": [
    "### Example\n",
    "\n",
    "We want to relate the proportion of breast-cancer cases in a group to the score variable for that group. In other words, we wish to test whether the proportion of breast-cancer cases increases or decreases as age at first birth increases. For this pur- pose the following test procedure is introduced."
   ]
  },
  {
   "cell_type": "markdown",
   "metadata": {},
   "source": [
    "### Relationship Between the Wilcoxon Rank-Sum Test and the Chi-Square Test for Trend"
   ]
  },
  {
   "cell_type": "markdown",
   "metadata": {},
   "source": [
    "# 10.7 Chi-Square Goodness of Fit Test\n",
    "\n",
    "This section presents a general method of testing for the goodness-of-fit of a probability model.\n",
    "\n",
    "This assumption can be tested by first computing what the expected frequencies would be in each group if the data did come from an underlying normal distribution and by then comparing these expected frequencies with the corresponding observed frequencies.\n",
    "\n",
    "**Usefulness**:\n",
    "<br>*Useful for checking whether underlying assumption that data come from an x distribution is accurate or not, so that other methods of statistical inference can be used with confidence.*\n",
    "\n",
    "**Hypotheses**:\n",
    "<br>H0: Data come from a x distribution (usually normal, but the goodness of fit test can be used to check the goodness of fit for any probability model)\n",
    "<br>Ha: Data do not come from a x distribution\n",
    "\n",
    "**Mechanics**:\n",
    "1. Python<br>\n",
    "    https://www.statsmodels.org/stable/stats.html#goodness-of-fit-tests-and-measures<br>\n",
    "    `scipy.stats.chisquare(f_obs, f_exp, dof)`"
   ]
  },
  {
   "cell_type": "markdown",
   "metadata": {},
   "source": [
    "# 10.8 Kappa Statistic\n",
    "\n",
    "In some instances, some association is expected between the variables and the issue is quantifying the degree of association. \n",
    "\n",
    "Kappa is usually used as a **measure of reproducibility between repeated assessments of the same variable.**\n",
    "\n",
    "**Usefulness**:\n",
    "1. **reliability studies**, where the researcher wants to quantify the reproducibility of the same variable (e.g., dietary intake of a particular food) measured more than once.\n",
    "\n",
    "**Hypotheses**:\n",
    "<br>H0: p<sub>o</sub> = p<sub>e</sub>\n",
    "<br>Ha: p<sub>o</sub> != p<sub>e</sub>\n",
    "<br>p<sub>o</sub> = observed percentage of concordant responses\n",
    "<br>p<sub>e</sub> = expected percentage of concordant responses, assuming outcomes are statistically independent\n",
    "\n",
    "The Kappa Statistic\n",
    "(1) If a categorical variable is reported at two surveys by each of $n$ subjects, then the Kappa statistic (\\kappa) is used to measure reproducibility between surveys, where\n",
    "$$\n",
    "\\kappa=\\frac{p_{o}-p_{e}}{1-p_{e}}\n",
    "$$\n",
    "$p_{o}=$ observed probability of concordance between the two surveys<br>\n",
    "$p_{e}=$ expected probability of concordance between the two surveys $ =\\Sigma a_{i} b_{i} $<Br>\n",
    "where $a_{i}, b_{i}$ are the marginal probabilities for the $i$ th category in the $c \\times c$ contingency table relating response at the two surveys.\n",
    "    \n",
    "<br>H0: κ = 0\n",
    "<br>H1: κ > 0\n",
    "    \n",
    "**Guidelines for Evaluating Kappa**:\n",
    "<br>κ > 75 denotes excellent reproducibility.\n",
    "<br>.4 ≤ κ ≤ .75 denotes good reproducibility.\n",
    "<br>0 ≤ κ < .4 denotes marginal reproducibility.\n"
   ]
  },
  {
   "cell_type": "code",
   "execution_count": null,
   "metadata": {},
   "outputs": [],
   "source": []
  }
 ],
 "metadata": {
  "kernelspec": {
   "display_name": "Python 3",
   "language": "python",
   "name": "python3"
  },
  "language_info": {
   "codemirror_mode": {
    "name": "ipython",
    "version": 3
   },
   "file_extension": ".py",
   "mimetype": "text/x-python",
   "name": "python",
   "nbconvert_exporter": "python",
   "pygments_lexer": "ipython3",
   "version": "3.7.7"
  }
 },
 "nbformat": 4,
 "nbformat_minor": 4
}
