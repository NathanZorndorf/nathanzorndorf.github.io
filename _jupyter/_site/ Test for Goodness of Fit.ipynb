{
 "cells": [
  {
   "cell_type": "markdown",
   "metadata": {},
   "source": [
    "# Test for goodness of fit of the normal-probability model\n",
    "***Taken from page 426 of Funamentals of Biostatistics, 8th Edition, by Bernard Rosner.***"
   ]
  },
  {
   "cell_type": "markdown",
   "metadata": {},
   "source": [
    "For this example, we will utilize the test data from the following hypothetical experiment where diastolic blood-pressure measurements were collected at home in a community-wide screening program of 14,736 adults ages 30-69 in East Boston, MA, as part of a nationwide study to detect and treat hypertensive people. The people int he study were each screened in the home, with two measurements taken during one visit. A frequency distribution of the mean distolic blood pressure is given in the table (see ***df*** below) in 10-mm Hg intervals.\n",
    "\n",
    "In general, we would like to test the assumption that the data come from an underlying normal distribution because **\"standard methods of statistical inference can then be applied on these data\"** \n",
    "\n",
    "How can the validity of this assumption be tested?"
   ]
  },
  {
   "cell_type": "code",
   "execution_count": 141,
   "metadata": {},
   "outputs": [],
   "source": [
    "import scipy\n",
    "from scipy.stats import chisquare, chi2_contingency\n",
    "import numpy as np\n",
    "import pandas as pd\n",
    "import matplotlib.pyplot as plt\n",
    "%matplotlib inline"
   ]
  },
  {
   "cell_type": "markdown",
   "metadata": {},
   "source": [
    "**This data is fictional:**"
   ]
  },
  {
   "cell_type": "code",
   "execution_count": 142,
   "metadata": {},
   "outputs": [
    {
     "data": {
      "text/html": [
       "<div>\n",
       "<style scoped>\n",
       "    .dataframe tbody tr th:only-of-type {\n",
       "        vertical-align: middle;\n",
       "    }\n",
       "\n",
       "    .dataframe tbody tr th {\n",
       "        vertical-align: top;\n",
       "    }\n",
       "\n",
       "    .dataframe thead th {\n",
       "        text-align: right;\n",
       "    }\n",
       "</style>\n",
       "<table border=\"1\" class=\"dataframe\">\n",
       "  <thead>\n",
       "    <tr style=\"text-align: right;\">\n",
       "      <th></th>\n",
       "      <th>Group</th>\n",
       "      <th>Observed Frequency</th>\n",
       "    </tr>\n",
       "  </thead>\n",
       "  <tbody>\n",
       "    <tr>\n",
       "      <th>0</th>\n",
       "      <td>(40, 49)</td>\n",
       "      <td>57</td>\n",
       "    </tr>\n",
       "    <tr>\n",
       "      <th>1</th>\n",
       "      <td>(50, 59)</td>\n",
       "      <td>330</td>\n",
       "    </tr>\n",
       "    <tr>\n",
       "      <th>2</th>\n",
       "      <td>(60, 69)</td>\n",
       "      <td>2132</td>\n",
       "    </tr>\n",
       "    <tr>\n",
       "      <th>3</th>\n",
       "      <td>(70, 79)</td>\n",
       "      <td>4584</td>\n",
       "    </tr>\n",
       "    <tr>\n",
       "      <th>4</th>\n",
       "      <td>(80, 89)</td>\n",
       "      <td>4604</td>\n",
       "    </tr>\n",
       "    <tr>\n",
       "      <th>5</th>\n",
       "      <td>(90, 99)</td>\n",
       "      <td>2119</td>\n",
       "    </tr>\n",
       "    <tr>\n",
       "      <th>6</th>\n",
       "      <td>(100, 109)</td>\n",
       "      <td>659</td>\n",
       "    </tr>\n",
       "    <tr>\n",
       "      <th>7</th>\n",
       "      <td>(110, 119)</td>\n",
       "      <td>251</td>\n",
       "    </tr>\n",
       "  </tbody>\n",
       "</table>\n",
       "</div>"
      ],
      "text/plain": [
       "        Group  Observed Frequency\n",
       "0    (40, 49)                  57\n",
       "1    (50, 59)                 330\n",
       "2    (60, 69)                2132\n",
       "3    (70, 79)                4584\n",
       "4    (80, 89)                4604\n",
       "5    (90, 99)                2119\n",
       "6  (100, 109)                 659\n",
       "7  (110, 119)                 251"
      ]
     },
     "execution_count": 142,
     "metadata": {},
     "output_type": "execute_result"
    }
   ],
   "source": [
    "ranges = [(40, 49), (50, 59), (60, 69), (70, 79), (80, 89), (90, 99), (100, 109), (110, 119)]\n",
    "\n",
    "f_obs = [57, 330, 2132, 4584, 4604, 2119, 659, 251]\n",
    "\n",
    "df = pd.DataFrame(index=list(range(len(f_obs))), \n",
    "                  columns=['Group','Observed Frequency'], \n",
    "                  data=list(zip(ranges, f_obs)))\n",
    "df"
   ]
  },
  {
   "cell_type": "code",
   "execution_count": 145,
   "metadata": {},
   "outputs": [
    {
     "data": {
      "text/html": [
       "<div>\n",
       "<style scoped>\n",
       "    .dataframe tbody tr th:only-of-type {\n",
       "        vertical-align: middle;\n",
       "    }\n",
       "\n",
       "    .dataframe tbody tr th {\n",
       "        vertical-align: top;\n",
       "    }\n",
       "\n",
       "    .dataframe thead th {\n",
       "        text-align: right;\n",
       "    }\n",
       "</style>\n",
       "<table border=\"1\" class=\"dataframe\">\n",
       "  <thead>\n",
       "    <tr style=\"text-align: right;\">\n",
       "      <th></th>\n",
       "      <th>Group</th>\n",
       "      <th>Observed Frequency</th>\n",
       "      <th>Group Average</th>\n",
       "    </tr>\n",
       "  </thead>\n",
       "  <tbody>\n",
       "    <tr>\n",
       "      <th>0</th>\n",
       "      <td>(40, 49)</td>\n",
       "      <td>57</td>\n",
       "      <td>44.5</td>\n",
       "    </tr>\n",
       "    <tr>\n",
       "      <th>1</th>\n",
       "      <td>(50, 59)</td>\n",
       "      <td>330</td>\n",
       "      <td>54.5</td>\n",
       "    </tr>\n",
       "    <tr>\n",
       "      <th>2</th>\n",
       "      <td>(60, 69)</td>\n",
       "      <td>2132</td>\n",
       "      <td>64.5</td>\n",
       "    </tr>\n",
       "    <tr>\n",
       "      <th>3</th>\n",
       "      <td>(70, 79)</td>\n",
       "      <td>4584</td>\n",
       "      <td>74.5</td>\n",
       "    </tr>\n",
       "    <tr>\n",
       "      <th>4</th>\n",
       "      <td>(80, 89)</td>\n",
       "      <td>4604</td>\n",
       "      <td>84.5</td>\n",
       "    </tr>\n",
       "  </tbody>\n",
       "</table>\n",
       "</div>"
      ],
      "text/plain": [
       "      Group  Observed Frequency  Group Average\n",
       "0  (40, 49)                  57           44.5\n",
       "1  (50, 59)                 330           54.5\n",
       "2  (60, 69)                2132           64.5\n",
       "3  (70, 79)                4584           74.5\n",
       "4  (80, 89)                4604           84.5"
      ]
     },
     "execution_count": 145,
     "metadata": {},
     "output_type": "execute_result"
    }
   ],
   "source": [
    "df['Group Average'] = df['Group'].apply(np.mean)\n",
    "df.head()"
   ]
  },
  {
   "cell_type": "markdown",
   "metadata": {},
   "source": [
    "The null hypothesis (H0) is that the data come from a normal distribution. \n"
   ]
  },
  {
   "cell_type": "code",
   "execution_count": 146,
   "metadata": {},
   "outputs": [
    {
     "data": {
      "text/plain": [
       "<AxesSubplot:xlabel='Group Average'>"
      ]
     },
     "execution_count": 146,
     "metadata": {},
     "output_type": "execute_result"
    },
    {
     "data": {
      "image/png": "[encoded data removed]",
      "text/plain": [
       "<Figure size 432x288 with 1 Axes>"
      ]
     },
     "metadata": {
      "needs_background": "light"
     },
     "output_type": "display_data"
    }
   ],
   "source": [
    "# plot just to see if it resembles the normal distribution at all\n",
    "df.plot.bar(x='Group Average', y='Observed Frequency')"
   ]
  },
  {
   "cell_type": "code",
   "execution_count": 147,
   "metadata": {},
   "outputs": [
    {
     "name": "stdout",
     "output_type": "stream",
     "text": [
      "80.51248642779588 12.125199950491224\n"
     ]
    }
   ],
   "source": [
    "## calculate average and standard deviation\n",
    "data = np.repeat(a=df['Group Average'], \n",
    "                 repeats=df['Observed Frequency']) # create frequency count data\n",
    "u = np.mean(data)\n",
    "s = np.std(data)\n",
    "print(u, s)"
   ]
  },
  {
   "cell_type": "code",
   "execution_count": 149,
   "metadata": {},
   "outputs": [],
   "source": [
    "# calculate total samples\n",
    "n = df['Observed Frequency'].sum()\n",
    "\n",
    "# create normal distribution from f_obs mean and std. dev. \n",
    "norm = scipy.stats.norm(u, s)"
   ]
  },
  {
   "cell_type": "code",
   "execution_count": 150,
   "metadata": {},
   "outputs": [
    {
     "data": {
      "image/png": "[encoded data removed]",
      "text/plain": [
       "<Figure size 432x288 with 1 Axes>"
      ]
     },
     "metadata": {
      "needs_background": "light"
     },
     "output_type": "display_data"
    }
   ],
   "source": [
    "# plot the modeled normal distribution pdf based on mean and standard deviation of sample data\n",
    "r = norm.rvs(size=10000)\n",
    "plt.hist(r, bins=50, density=True);"
   ]
  },
  {
   "cell_type": "markdown",
   "metadata": {},
   "source": [
    "The value chi-squared test statistic is calculated across all rows in the table as: \n",
    "\n",
    "\\begin{equation*}\n",
    "\\left( \\sum_{i=1}^n (O_i-E_i)^2/E_i \\right)\n",
    "\\end{equation*}\n",
    "\n",
    "This means we need to calculate the **Expected Frequency**. The expected frequency is calculated from the normal distribution based on the parameters derived from the sample data (mean=u, standard deviation=s). We use this distribution's CDF to calculate the probability of getting a value within each \"Group\" (determined by the group's end points), and then multiply that probability density by the total sample size, n, to get the **Expected Frequency** for each blood-pressure measurement group."
   ]
  },
  {
   "cell_type": "markdown",
   "metadata": {},
   "source": [
    "The requirements for using this test are:\n",
    "- A) no more than 1/5 of the expected values are < 5\n",
    "- B) no expected value is < 1\n",
    "\n",
    "Both of these criteria are met in this example."
   ]
  },
  {
   "cell_type": "code",
   "execution_count": 154,
   "metadata": {},
   "outputs": [],
   "source": [
    "# calculate expected frequency and chi-squared test statistic\n",
    "df['Expected Frequency'] = df.apply(lambda x: (norm.cdf(x['Group'][1]) - norm.cdf(x['Group'][0])) * n , axis=1)"
   ]
  },
  {
   "cell_type": "code",
   "execution_count": 155,
   "metadata": {},
   "outputs": [
    {
     "name": "stdout",
     "output_type": "stream",
     "text": [
      "564.6737684529562 2.413510222813826e-123\n"
     ]
    }
   ],
   "source": [
    "# calculate degrees of freedom \n",
    "dof = len(df) - 2 - 1 # g - k - 1, where g = cell count, k = parameters (two: mean and std. dev)\n",
    "\n",
    "# calculate chi-squared test statistic and associated p-value\n",
    "from scipy.stats import chisquare\n",
    "chisq, pvalue = chisquare(f_obs=df['Observed Frequency'], f_exp=df['Expected Frequency'], ddof=dof)\n",
    "\n",
    "print(chisq, pvalue)"
   ]
  },
  {
   "cell_type": "markdown",
   "metadata": {},
   "source": [
    "p < 0.001, thus we can reject the null hypothesis (H0: the sample comes from a normal distribution) as the results are highly significant. "
   ]
  },
  {
   "cell_type": "code",
   "execution_count": null,
   "metadata": {},
   "outputs": [],
   "source": []
  }
 ],
 "metadata": {
  "kernelspec": {
   "display_name": "Python 3",
   "language": "python",
   "name": "python3"
  },
  "language_info": {
   "codemirror_mode": {
    "name": "ipython",
    "version": 3
   },
   "file_extension": ".py",
   "mimetype": "text/x-python",
   "name": "python",
   "nbconvert_exporter": "python",
   "pygments_lexer": "ipython3",
   "version": "3.7.9"
  }
 },
 "nbformat": 4,
 "nbformat_minor": 4
}
