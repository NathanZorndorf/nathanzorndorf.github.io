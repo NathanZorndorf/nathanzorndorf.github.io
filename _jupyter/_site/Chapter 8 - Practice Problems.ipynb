{
 "cells": [
  {
   "cell_type": "code",
   "execution_count": 1,
   "metadata": {},
   "outputs": [],
   "source": [
    "import pandas as pd\n",
    "import io\n",
    "import requests\n",
    "from IPython.core.display import display, HTML\n",
    "import numpy as np\n",
    "import matplotlib.pyplot as plt\n",
    "import scipy\n",
    "%matplotlib inline\n",
    "\n",
    "pd.options.display.max_columns = 50"
   ]
  },
  {
   "cell_type": "markdown",
   "metadata": {},
   "source": [
    "### Implement necessary functions"
   ]
  },
  {
   "cell_type": "code",
   "execution_count": 2,
   "metadata": {},
   "outputs": [],
   "source": [
    "def sample_size_from_stats(mean1, mean2, std1, std2, alpha=0.05, beta=0.2, two_sided=True, k=None):\n",
    "    '''\n",
    "    Returns:\n",
    "        n {int} \n",
    "    '''\n",
    "    \n",
    "    power = 1 - beta\n",
    "    \n",
    "    if two_sided:\n",
    "        z_alpha = norm.ppf(q=1-alpha/2, loc=0, scale=1)\n",
    "    else:\n",
    "        z_alpha = norm.ppf(q=1-alpha, loc=0, scale=1)\n",
    "\n",
    "    z_power = norm.ppf(q=power, loc=0, scale=1)\n",
    "\n",
    "    # from equation 8.24\n",
    "    if k == None:\n",
    "        n = (std1**2 + std2**2) * (z_alpha + z_power)**2 / diff**2\n",
    "        return int(n)\n",
    "    else:\n",
    "        n1 = (std1**2 + std2**2/k) * (z_alpha + z_power)**2 / (mean1 - mean2)**2\n",
    "        n2 = (k*std1**2 + std2**2) * (z_alpha + z_power)**2 / (mean1 - mean2)**2\n",
    "        return (n1, n2)\n",
    "\n",
    "\n",
    "def power_from_stats(mean1, nobs1, std1, mean2, nobs2, std2, alpha=0.05, two_sided=True):\n",
    "    '''Power for Comparing the Means of Two Normally Distributed Samples \n",
    "    Using a Significance Level α.\n",
    "    \n",
    "    Returns:\n",
    "        power {float} -- value between [0, 1]\n",
    "    \n",
    "    '''\n",
    "    \n",
    "    from scipy.stats import norm\n",
    "    from numpy import sqrt\n",
    "    \n",
    "    if two_sided:\n",
    "        z_alpha = norm.ppf(q=1-alpha/2, loc=0, scale=1)\n",
    "    else:\n",
    "        z_alpha = norm.ppf(q=1-alpha, loc=0, scale=1)\n",
    "    \n",
    "     # instantiate a standard normal continuous random variable\n",
    "    rv = scipy.stats.norm\n",
    "    statistic = -1*z_alpha + (mean1 - mean2)/sqrt(((std1**2/nobs1) + (std2**2/nobs2)))\n",
    "    power = rv.cdf(statistic)\n",
    "    \n",
    "    print(\"z_alpha=\", z_alpha)\n",
    "    print(\"statistic=\", statistic)\n",
    "    print(\"power=\", power)\n",
    "    \n",
    "    return power\n",
    "    "
   ]
  },
  {
   "cell_type": "code",
   "execution_count": 3,
   "metadata": {},
   "outputs": [],
   "source": [
    "def ci_ind(a, b, alpha=0.95):\n",
    "    '''Calculates the confidence interval corresponding to significance {alpha} for two independent\n",
    "    samples a and b.\n",
    "    \n",
    "    Parameters:\n",
    "        a -- {np.array}\n",
    "        b -- {np.array}\n",
    "        alpha -- {float}\n",
    "    \n",
    "    Returns:\n",
    "        mean_diff -- {float}\n",
    "        ci -- {tuple}\n",
    "    \n",
    "    '''\n",
    "    \n",
    "    # make sure input vectors are the same length\n",
    "    assert(len(a) == len(b))\n",
    "    n1 = len(a)\n",
    "    n2 = len(b)\n",
    "    \n",
    "    s1 = np.std(a)\n",
    "    s2 = np.std(b)\n",
    "    var = ((n1 - 1)*s1**2 + (n2-1)*s2**2) / (n1 + n2 - 2)\n",
    "    std = np.sqrt(var)\n",
    "    \n",
    "    # calculate mean difference\n",
    "    diff = b.mean() - a.mean()\n",
    "    \n",
    "\n",
    "    # generate a t distributed random variable \n",
    "    dof = n1 + n2 - 2 # calculate degrees of freedom\n",
    "    rv = scipy.stats.t(dof) # instantiate A Student’s t continuous random variable\n",
    "    t = rv.ppf((1 - alpha) / 2)\n",
    "    t = np.abs(t) \n",
    "    \n",
    "    # calculate ci\n",
    "    ci = (diff - t * (std / np.sqrt((1/n1) + (1/n2))), diff + t * (std / np.sqrt((1/n1) + (1/n2))))\n",
    "    \n",
    "    return  diff, ci"
   ]
  },
  {
   "cell_type": "code",
   "execution_count": 4,
   "metadata": {},
   "outputs": [],
   "source": [
    "def ci_ind_from_stats(mean1, nobs1, std1, mean2, nobs2, std2, alpha=0.95):\n",
    "    '''Calculates the confidence interval corresponding to significance {alpha} for two independent\n",
    "    samples a and b.\n",
    "    \n",
    "    Returns:\n",
    "        mean_diff -- {float}\n",
    "        ci -- {tuple}\n",
    "    \n",
    "    '''\n",
    "    import scipy.stats\n",
    "    import numpy as np\n",
    "\n",
    "    # calculate estimate\n",
    "    diff = mean1 - mean2\n",
    "    var = ((nobs1 - 1)*std1**2 + (nobs2-1)*std2**2) / (nobs1 + nobs2 - 2)\n",
    "    std = np.sqrt(var)\n",
    "    \n",
    "\n",
    "    # generate a t distributed random variable \n",
    "    dof = nobs1 + nobs2 - 2 # calculate degrees of freedom\n",
    "    rv = scipy.stats.t(dof) # instantiate A Student’s t continuous random variable\n",
    "    t = rv.ppf((1 - alpha) / 2)\n",
    "    t = np.abs(t) \n",
    "    \n",
    "    # calculate ci\n",
    "    ci = (diff - t * (std / np.sqrt((1/nobs1) + (1/nobs2))), diff + t * (std / np.sqrt((1/nobs2) + (1/nobs2))))\n",
    "    \n",
    "    return  diff, ci"
   ]
  },
  {
   "cell_type": "code",
   "execution_count": 5,
   "metadata": {},
   "outputs": [],
   "source": [
    "def std_paired(a, b):\n",
    "    assert(len(a) == len(b))\n",
    "    n = len(a)\n",
    "    d = b - a\n",
    "    var = np.sum((d - d.mean())**2) / (n - 1)\n",
    "    std = np.sqrt(var)\n",
    "    return std\n",
    "\n",
    "def ci_paired(a, b, alpha=0.95):\n",
    "    '''Calculates the confidence interval corresponding to significance {alpha} for two related (i.e. \"paired\") \n",
    "    vectors a and b.\n",
    "    \n",
    "    Parameters:\n",
    "        a -- {np.array}\n",
    "        b -- {np.array}\n",
    "        alpha -- {float}\n",
    "    \n",
    "    Returns:\n",
    "        mean_diff -- {float}\n",
    "        ci -- {tuple}\n",
    "    \n",
    "    '''\n",
    "    \n",
    "    # make sure input vectors are the same length\n",
    "    assert(len(a) == len(b))\n",
    "    n = len(a)\n",
    "    \n",
    "    # calculate mean difference\n",
    "    mean_diff = (b - a).mean()\n",
    "    \n",
    "    # calculate standard deviation of paired samples\n",
    "    s_d = std_paired(a, b)\n",
    "\n",
    "    # generate a t distributed random variable \n",
    "    dof = n - 1 # calculate degrees of freedom\n",
    "    rv = scipy.stats.t(dof) # instantiate A Student’s t continuous random variable\n",
    "    \n",
    "    # get the t statistics for degrees of freedom and specified alpha\n",
    "    t = rv.ppf((1 - alpha) / 2)\n",
    "    t = np.abs(t) \n",
    "    \n",
    "    # calculate ci\n",
    "    print(mean_diff, t, s_d, np.sqrt(n))\n",
    "    ci = (mean_diff - t * (s_d / np.sqrt(n)), mean_diff + t * (s_d / np.sqrt(n)))\n",
    "    \n",
    "    return  mean_diff, ci"
   ]
  },
  {
   "cell_type": "markdown",
   "metadata": {},
   "source": [
    "### Problem set"
   ]
  },
  {
   "cell_type": "markdown",
   "metadata": {},
   "source": [
    "***Data for Problems 8.2 - 8.13***"
   ]
  },
  {
   "cell_type": "code",
   "execution_count": 25,
   "metadata": {},
   "outputs": [],
   "source": [
    "nobs1 = 25\n",
    "mean1 = 6.56\n",
    "std1 = 0.64\n",
    "\n",
    "nobs2 = 40\n",
    "mean2 = 6.8  \n",
    "std2 = 0.76"
   ]
  },
  {
   "cell_type": "markdown",
   "metadata": {},
   "source": [
    "8.2 Test for a significant difference between the variances. "
   ]
  },
  {
   "cell_type": "markdown",
   "metadata": {},
   "source": [
    "H0: var1 == var2<br>\n",
    "Ha: var1 != var 2"
   ]
  },
  {
   "cell_type": "code",
   "execution_count": null,
   "metadata": {},
   "outputs": [],
   "source": [
    "from scipy.stats import f\n",
    "\n",
    "f_statistic = std1**2 / std2**2\n",
    "print(statistic)\n",
    "\n",
    "# parameters\n",
    "alpha = 0.05\n",
    "dfn = nobs1 - 1\n",
    "dfd = nobs2 - 1\n",
    "loc = 0\n",
    "scale = 1"
   ]
  },
  {
   "cell_type": "markdown",
   "metadata": {},
   "source": [
    "The question is, what's the F statistic of the F distribution with those parameters (alpha/2 and 1- alpha/2)?\n",
    "\n",
    "We want a function where we can input the probability (alpha) and get out the corresponding F-statistic... That means we want the PPF."
   ]
  },
  {
   "cell_type": "code",
   "execution_count": null,
   "metadata": {},
   "outputs": [],
   "source": [
    "f_lower = f.ppf(alpha/2, dfn, dfd, loc, scale)"
   ]
  },
  {
   "cell_type": "code",
   "execution_count": null,
   "metadata": {},
   "outputs": [],
   "source": [
    "f_upper = f.ppf(1-(alpha/2), dfn, dfd, loc, scale)"
   ]
  },
  {
   "cell_type": "code",
   "execution_count": null,
   "metadata": {},
   "outputs": [],
   "source": [
    "print(f_lower, f_upper)"
   ]
  },
  {
   "cell_type": "code",
   "execution_count": 105,
   "metadata": {},
   "outputs": [
    {
     "name": "stdout",
     "output_type": "stream",
     "text": [
      "0.46491092633494036 2.0166484942971676\n",
      "True\n"
     ]
    }
   ],
   "source": [
    "print(f_lower < f_statistic < f_upper)"
   ]
  },
  {
   "cell_type": "markdown",
   "metadata": {},
   "source": [
    "So our test statistic falls within the acceptance region of the F distribution. This means that, given that the null hypothesis is true, it is highly likely to get these results, therefore **we cannot reject (i.e., we can accept) the null hypothesis that the two variances are equal.**"
   ]
  },
  {
   "cell_type": "markdown",
   "metadata": {},
   "source": [
    "8.3 What is the appropriate procedure to test for a signifi- cant difference in means between the two groups?"
   ]
  },
  {
   "cell_type": "markdown",
   "metadata": {},
   "source": [
    "Since we discovered that the two samples come from populations with equal variances, the *Two samples independent t-test with equal variances* is the most appropriate test here."
   ]
  },
  {
   "cell_type": "markdown",
   "metadata": {},
   "source": [
    "8.4 Implement the procedure in Problem 8.3 using the  critical-value method.<br>\n",
    "8.5 What is the p-value corresponding to your answer to  Problem 8.4?"
   ]
  },
  {
   "cell_type": "code",
   "execution_count": 26,
   "metadata": {},
   "outputs": [],
   "source": [
    "from scipy.stats import ttest_ind, ttest_ind_from_stats"
   ]
  },
  {
   "cell_type": "code",
   "execution_count": 31,
   "metadata": {},
   "outputs": [
    {
     "name": "stdout",
     "output_type": "stream",
     "text": [
      "6.56 6.8 -0.2400000000000002\n"
     ]
    }
   ],
   "source": [
    "print(mean1, mean2, mean1 - mean2)"
   ]
  },
  {
   "cell_type": "code",
   "execution_count": 29,
   "metadata": {},
   "outputs": [
    {
     "name": "stdout",
     "output_type": "stream",
     "text": [
      "-1.3135362295391815 0.19376598097353762\n"
     ]
    }
   ],
   "source": [
    "statistic, pvalue = ttest_ind_from_stats(mean1, std1, nobs1, mean2, std2, nobs2, equal_var=True)\n",
    "print(statistic, pvalue)"
   ]
  },
  {
   "cell_type": "markdown",
   "metadata": {},
   "source": [
    "So the p value is 0.19, which means we **don't have a significant difference in means between the two samples**, and that they do not represent two distinct populations with distinct means (given a 5% signficance threshold)."
   ]
  },
  {
   "cell_type": "markdown",
   "metadata": {},
   "source": [
    "8.6 Compute a 95% CI for the difference in means  between the two groups."
   ]
  },
  {
   "cell_type": "code",
   "execution_count": 40,
   "metadata": {},
   "outputs": [],
   "source": [
    "diff, ci = ci_ind_from_stats(mean1, nobs1, std1, mean2, nobs2, std2, alpha=0.95)"
   ]
  },
  {
   "cell_type": "code",
   "execution_count": 41,
   "metadata": {},
   "outputs": [
    {
     "name": "stdout",
     "output_type": "stream",
     "text": [
      "-0.2400000000000002 (-5.857270379229926, 6.164673642535278)\n"
     ]
    }
   ],
   "source": [
    "print(diff, ci)"
   ]
  },
  {
   "cell_type": "markdown",
   "metadata": {},
   "source": [
    "*8.7 Suppose an equal number of 12- to 14-year-old girls  below  and  above  the  poverty  level  are  recruited  to  study \n",
    "differences  in  calcium  intake.  How  many  girls  should  be  recruited to have an 80% chance of detecting a significant  difference using a two-sided test with α = .05?"
   ]
  },
  {
   "cell_type": "markdown",
   "metadata": {},
   "source": [
    "*Equation for computing the Sample Size Needed for Comparing the Means of Two Normally Distributed Samples of Equal Size Using a Two-Sided Test with Significance Level α and Power 1 − β*:\n",
    "\n",
    "***INSERT EQUATION HERE***"
   ]
  },
  {
   "cell_type": "code",
   "execution_count": 54,
   "metadata": {},
   "outputs": [
    {
     "name": "stdout",
     "output_type": "stream",
     "text": [
      "-0.2400000000000002\n"
     ]
    }
   ],
   "source": [
    "# problem setup\n",
    "power = 0.8\n",
    "alpha = 0.05\n",
    "\n",
    "diff = mean1 - mean2\n",
    "print(diff)"
   ]
  },
  {
   "cell_type": "code",
   "execution_count": 55,
   "metadata": {},
   "outputs": [],
   "source": [
    "from scipy.stats import norm"
   ]
  },
  {
   "cell_type": "code",
   "execution_count": 58,
   "metadata": {},
   "outputs": [],
   "source": [
    "z_alpha = norm.ppf(q=1-alpha/2, loc=0, scale=1)\n",
    "\n",
    "z_power = norm.ppf(q=power, loc=0, scale=1)\n",
    "\n",
    "# from equation 8.24\n",
    "n = (std1**2 + std2**2) * (z_alpha + z_power)**2 / diff**2\n",
    "\n",
    "print(n)"
   ]
  },
  {
   "cell_type": "markdown",
   "metadata": {},
   "source": [
    "so ~134 people should be recruited for this study to have an 80% chance of detecting an effect (assuming that there is one). We already know there is no significant difference between the means though. "
   ]
  },
  {
   "cell_type": "markdown",
   "metadata": {},
   "source": [
    "*8.8 Answer Problem 8.7 if a one-sided rather than a two- sided test is used."
   ]
  },
  {
   "cell_type": "code",
   "execution_count": 62,
   "metadata": {},
   "outputs": [
    {
     "name": "stdout",
     "output_type": "stream",
     "text": [
      "105.96216144878302\n"
     ]
    }
   ],
   "source": [
    "z_alpha = norm.ppf(q=1-alpha, loc=0, scale=1)\n",
    "\n",
    "z_power = norm.ppf(q=power, loc=0, scale=1)\n",
    "\n",
    "# from equation 8.24\n",
    "n = (std1**2 + std2**2) * (z_alpha + z_power)**2 / diff**2\n",
    "\n",
    "print(n)"
   ]
  },
  {
   "cell_type": "markdown",
   "metadata": {},
   "source": [
    "Intuitively it makes sense that we require less people since a two-tailed test is harder to pass, so it would require a higher number of people to achieve the same statistical power. "
   ]
  },
  {
   "cell_type": "markdown",
   "metadata": {},
   "source": [
    "*8.9 Using a two-sided test with α = .05, answer Problem  8.7,  anticipating  that  two  girls  above  the  poverty  level  will  be  recruited  for  every  one  girl  below  the  poverty  level  who  is recruited."
   ]
  },
  {
   "cell_type": "markdown",
   "metadata": {},
   "source": [
    "*Sample Size Needed for Comparing the Means of Two Normally Distributed Samples of Unequal Size Using a Two-Sided Test with Significance Level α and Power 1 − β*:\n",
    "\n",
    "**INSERT EQUATION HERE**"
   ]
  },
  {
   "cell_type": "code",
   "execution_count": 99,
   "metadata": {},
   "outputs": [
    {
     "name": "stdout",
     "output_type": "stream",
     "text": [
      "95.16766677898254 190.33533355796507\n"
     ]
    }
   ],
   "source": [
    "k = 2\n",
    "alpha = 0.05\n",
    "power = 0.8\n",
    "two_sided = True\n",
    "\n",
    "n1, n2 = sample_size_from_stats(mean1, mean2, std1, std2, alpha=0.05, beta=0.2, two_sided=True, k=2)\n",
    "\n",
    "print(n1, n2)"
   ]
  },
  {
   "cell_type": "markdown",
   "metadata": {},
   "source": [
    "*8.10 Suppose 50 girls above the poverty level and 50  girls  below  the  poverty  level  are  recruited  for  the  study.  How much power will the study have of finding a significant  difference  using  a  two-sided  test  with  α  =  .05,  assuming  that the population parameters are the same as the sample  estimates in Problem 8.2?"
   ]
  },
  {
   "cell_type": "code",
   "execution_count": 87,
   "metadata": {},
   "outputs": [],
   "source": [
    "# problem parameters\n",
    "nobs1 = 25\n",
    "mean1 = 6.56\n",
    "std1 = 0.64\n",
    "\n",
    "nobs2 = 40\n",
    "mean2 = 6.8  \n",
    "std2 = 0.76"
   ]
  },
  {
   "cell_type": "code",
   "execution_count": 88,
   "metadata": {},
   "outputs": [
    {
     "name": "stdout",
     "output_type": "stream",
     "text": [
      "z_alpha= 1.959963984540054\n",
      "statistic= -3.326958410536717\n",
      "power= 0.00043899738172182765\n"
     ]
    },
    {
     "data": {
      "text/plain": [
       "0.00043899738172182765"
      ]
     },
     "execution_count": 88,
     "metadata": {},
     "output_type": "execute_result"
    }
   ],
   "source": [
    "power_from_stats(mean1, nobs1, std1, mean2, nobs2, std2, alpha=0.05, two_sided=True)"
   ]
  },
  {
   "cell_type": "markdown",
   "metadata": {},
   "source": [
    "Almost no chance at all of detecting a significant difference, which makes sense, I think, given the difference of the means of the samples (quite small) and the sample standard deviations (large, relative to the difference in means)."
   ]
  },
  {
   "cell_type": "markdown",
   "metadata": {},
   "source": [
    "*8.11 Answer Problem 8.10 assuming a one-sided rather  than a two-sided test is used."
   ]
  },
  {
   "cell_type": "code",
   "execution_count": 89,
   "metadata": {},
   "outputs": [
    {
     "name": "stdout",
     "output_type": "stream",
     "text": [
      "z_alpha= 1.6448536269514722\n",
      "statistic= -3.0118480529481353\n",
      "power= 0.001298312684353761\n"
     ]
    },
    {
     "data": {
      "text/plain": [
       "0.001298312684353761"
      ]
     },
     "execution_count": 89,
     "metadata": {},
     "output_type": "execute_result"
    }
   ],
   "source": [
    "power_from_stats(mean1, nobs1, std1, mean2, nobs2, std2, alpha=0.05, two_sided=False)"
   ]
  },
  {
   "cell_type": "markdown",
   "metadata": {},
   "source": [
    "*8.12 Suppose 50 girls above the poverty level and 25  girls below the poverty level are recruited for the study. How  much  power  will  the  study  have  if  a  two-sided  test  is  used  with α = .05?"
   ]
  },
  {
   "cell_type": "code",
   "execution_count": 103,
   "metadata": {},
   "outputs": [
    {
     "name": "stdout",
     "output_type": "stream",
     "text": [
      "z_alpha= 1.959963984540054\n",
      "statistic= -3.316610879478459\n",
      "power= 0.000455582119197921\n"
     ]
    }
   ],
   "source": [
    "power = power_from_stats(mean1, 50, std1, mean2, 25, std2, alpha=0.05, two_sided=True)"
   ]
  },
  {
   "cell_type": "markdown",
   "metadata": {},
   "source": [
    "*8.13 Answer  Problem  8.12  assuming  a  one-sided  test  is  used with α = .05. "
   ]
  },
  {
   "cell_type": "code",
   "execution_count": 104,
   "metadata": {},
   "outputs": [
    {
     "name": "stdout",
     "output_type": "stream",
     "text": [
      "z_alpha= 1.6448536269514722\n",
      "statistic= -3.001500521889877\n",
      "power= 0.0013432628940264794\n"
     ]
    }
   ],
   "source": [
    "power = power_from_stats(mean1, 50, std1, mean2, 25, std2, alpha=0.05, two_sided=False)"
   ]
  }
 ],
 "metadata": {
  "kernelspec": {
   "display_name": "Python 3",
   "language": "python",
   "name": "python3"
  },
  "language_info": {
   "codemirror_mode": {
    "name": "ipython",
    "version": 3
   },
   "file_extension": ".py",
   "mimetype": "text/x-python",
   "name": "python",
   "nbconvert_exporter": "python",
   "pygments_lexer": "ipython3",
   "version": "3.7.9"
  }
 },
 "nbformat": 4,
 "nbformat_minor": 4
}
