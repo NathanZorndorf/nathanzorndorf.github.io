{
 "cells": [
  {
   "cell_type": "markdown",
   "metadata": {},
   "source": [
    "### Assumptions for the independent t test\n",
    "\n",
    "1. Underlying population variances that the two samples are drawn from are equal\n",
    "2. Underlying populations are normally distributed"
   ]
  },
  {
   "cell_type": "code",
   "execution_count": 1,
   "metadata": {},
   "outputs": [],
   "source": [
    "import pandas as pd\n",
    "import io\n",
    "import requests\n",
    "from IPython.core.display import display, HTML\n",
    "import numpy as np\n",
    "import matplotlib.pyplot as plt\n",
    "import scipy\n",
    "%matplotlib inline\n",
    "\n",
    "pd.options.display.max_columns = 50"
   ]
  },
  {
   "cell_type": "markdown",
   "metadata": {},
   "source": [
    "*From Section 8.4 of* ***Fundamentals of Biostatistics by Bernard Rosner, 8th Edition***\n",
    "\n",
    "Hypertension Suppose a sample of eight 35- to 39-year-old nonprenant, premeno- pausal OC users who work in a company and have a mean systolic blood pres- sure (SBP) of 132.86 mm Hg and sample standard deviation of 15.34 mm Hg are identified. A sample of 21 nonpregnant, premenopausal, non-OC users in the same age group are similarly identified who have mean SBP of 127.44 mm Hg and sample standard deviation of 18.23 mm Hg. What can be said about the underlying mean difference in blood pressure between the two groups?\n",
    "\n",
    "\n",
    "Assume SBP is normally distributed in the first group with mean μ1 and variance σ1 and in the second group with mean μ2 and variance σ2. We want to test the hypothesis H0: μ1 = μ2 vs. H1: μ1 ≠ μ2. Assume in this section that the underlying variances in the two groups are the same (that is, σ12 = σ2 = σ2). The means and variances in the two samples are denoted by x1 x2 , s12 , s2 , respectively."
   ]
  },
  {
   "cell_type": "markdown",
   "metadata": {},
   "source": [
    "### Estimating the population variance by combining the sample variances\n",
    "\n",
    "Calculate a weighted average of the sample variances.\n",
    "\n",
    "**pooled estimate of the variance** \n",
    "\n",
    "\n",
    "INSERT EQUATION HERE"
   ]
  },
  {
   "cell_type": "code",
   "execution_count": 12,
   "metadata": {},
   "outputs": [],
   "source": [
    "from scipy.stats import ttest_ind, ttest_ind_from_stats"
   ]
  },
  {
   "cell_type": "code",
   "execution_count": 13,
   "metadata": {},
   "outputs": [],
   "source": [
    "mean1 = 132.86\n",
    "std1 = 15.34\n",
    "nobs1 = 8\n",
    "mean2 = 127.44\n",
    "std2 = 18.23\n",
    "nobs2 = 21"
   ]
  },
  {
   "cell_type": "code",
   "execution_count": 14,
   "metadata": {},
   "outputs": [
    {
     "name": "stdout",
     "output_type": "stream",
     "text": [
      "-5.420000000000016\n"
     ]
    }
   ],
   "source": [
    "print(mean2 - mean1)"
   ]
  },
  {
   "cell_type": "code",
   "execution_count": 15,
   "metadata": {},
   "outputs": [
    {
     "name": "stdout",
     "output_type": "stream",
     "text": [
      "0.7443175718105018 0.46311371461667283\n"
     ]
    }
   ],
   "source": [
    "statistic, pvalue = ttest_ind_from_stats(mean1, std1, nobs1, mean2, std2, nobs2)\n",
    "\n",
    "print(statistic, pvalue)"
   ]
  },
  {
   "cell_type": "markdown",
   "metadata": {},
   "source": [
    "Even though the mean difference between the two samples in both experiments are similar, we get wildly different p values - the paired t-test example rejects H0, whereas the independent t-test example accepts H0.\n",
    "\n",
    "*What this proves for me is that paired t-test is much more sensitive to differences than the independent t-test. In other words, you need a much more significant difference between two independent samples to detect a difference than you would if the samples were paired. This makes intuitive sense because for paired data, we've (supposedly) accounted for many confounding variables, so we can attribute much more of the variance in the measurement of interest between the two (paired) samples to the intervention.*"
   ]
  },
  {
   "cell_type": "markdown",
   "metadata": {},
   "source": [
    "### Calculating the 95% CI \n",
    "\n",
    "the combined variance is just a weighted sum of the individual variances:<br>\n",
    "$s^{2} = { \\left[(n_1 - 1)s_1^2 + (n_2 - 1)s_2^2\\right] / (n_1 + n_2 - 2)}$ <br>\n",
    "\n",
    "take the square root to get the combined standard deviation:<br>\n",
    "$s = \\sqrt{ \\left[(n_1 - 1)s_1^2 + (n_2 - 1)s_2^2\\right] / (n_1 + n_2 - 2)}$<br>\n",
    "\n",
    "\n",
    "As usual, the CI is calculated by taking the average (in this case the difference in means from the two samples) and adding/subtracting the t statistic mulitplied by the standard deviation of the sampling distribution. (for a full derivation, see page 287 from the text).\n",
    "\n",
    "95% CI = $(\\hat{x_1} - \\hat{x_2} − t_{n_1+n_2-2,1−α/2} * s /\\sqrt{1/n_1 + 1/n_2},  \\hat{x_1} - \\hat{x_2} + t_{n_1+n_2-2,1−α/2} * s/\\sqrt{1/n_1 + 1/n_2})$"
   ]
  },
  {
   "cell_type": "code",
   "execution_count": 16,
   "metadata": {},
   "outputs": [],
   "source": [
    "def ci_ind(a, b, alpha=0.95):\n",
    "    '''Calculates the confidence interval corresponding to significance {alpha} for two independent\n",
    "    samples a and b.\n",
    "    \n",
    "    Parameters:\n",
    "        a -- {np.array}\n",
    "        b -- {np.array}\n",
    "        alpha -- {float}\n",
    "    \n",
    "    Returns:\n",
    "        mean_diff -- {float}\n",
    "        ci -- {tuple}\n",
    "    \n",
    "    '''\n",
    "    \n",
    "    # make sure input vectors are the same length\n",
    "    assert(len(a) == len(b))\n",
    "    n1 = len(a)\n",
    "    n2 = len(b)\n",
    "    \n",
    "    s1 = np.std(a)\n",
    "    s2 = np.std(b)\n",
    "    var = ((n1 - 1)*s1 + (n2-1)*s2) / (n1 + n2 - 2)\n",
    "    std = np.sqrt(var)\n",
    "    \n",
    "    # calculate mean difference\n",
    "    diff = b.mean() - a.mean()\n",
    "    \n",
    "\n",
    "    # generate a t distributed random variable \n",
    "    dof = n - 1 # calculate degrees of freedom\n",
    "    rv = scipy.stats.t(dof) # instantiate A Student’s t continuous random variable\n",
    "    t = rv.ppf((1 - alpha) / 2)\n",
    "    t = np.abs(t) \n",
    "    \n",
    "    # calculate ci\n",
    "    ci = (diff - t * (std / np.sqrt((1/n1) + (1/n2))), diff + t * (std / np.sqrt((1/n1) + (1/n2))))\n",
    "    \n",
    "    return  mean_diff, ci"
   ]
  },
  {
   "cell_type": "code",
   "execution_count": null,
   "metadata": {},
   "outputs": [],
   "source": []
  }
 ],
 "metadata": {
  "kernelspec": {
   "display_name": "Python 3",
   "language": "python",
   "name": "python3"
  },
  "language_info": {
   "codemirror_mode": {
    "name": "ipython",
    "version": 3
   },
   "file_extension": ".py",
   "mimetype": "text/x-python",
   "name": "python",
   "nbconvert_exporter": "python",
   "pygments_lexer": "ipython3",
   "version": "3.7.9"
  }
 },
 "nbformat": 4,
 "nbformat_minor": 4
}
