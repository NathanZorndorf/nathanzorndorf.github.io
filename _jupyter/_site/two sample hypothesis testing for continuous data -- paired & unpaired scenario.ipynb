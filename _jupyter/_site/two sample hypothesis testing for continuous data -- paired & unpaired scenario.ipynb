{
 "cells": [
  {
   "cell_type": "code",
   "execution_count": 1,
   "metadata": {},
   "outputs": [],
   "source": [
    "import pandas as pd\n",
    "import io\n",
    "import requests\n",
    "from IPython.core.display import display, HTML\n",
    "import numpy as np\n",
    "import matplotlib.pyplot as plt\n",
    "import scipy\n",
    "%matplotlib inline\n",
    "\n",
    "pd.options.display.max_columns = 50"
   ]
  },
  {
   "cell_type": "markdown",
   "metadata": {},
   "source": [
    "### Assumptions for the paired t-test\n",
    "\n",
    "1. Underlying distri- bution normal or central-limit theorem can be assumed to hold (large enough sample size, n > 30)\n",
    "2. Samples are related to each other. "
   ]
  },
  {
   "cell_type": "markdown",
   "metadata": {},
   "source": [
    "From Section 8.2 of **Fundamentals of Biostatistics by Bernard Rosner, 8th Edition**"
   ]
  },
  {
   "cell_type": "code",
   "execution_count": 17,
   "metadata": {},
   "outputs": [],
   "source": [
    "x1 = np.array([115,112,107,119,115,138,126,105,104,115])"
   ]
  },
  {
   "cell_type": "code",
   "execution_count": 18,
   "metadata": {},
   "outputs": [],
   "source": [
    "x2 = np.array([128,115,106,128,122,145,132,109,102,117])"
   ]
  },
  {
   "cell_type": "code",
   "execution_count": 49,
   "metadata": {},
   "outputs": [
    {
     "name": "stdout",
     "output_type": "stream",
     "text": [
      "[13  3 -1  9  7  7  6  4 -2  2]\n"
     ]
    }
   ],
   "source": [
    "diff = x2 - x1\n",
    "print(diff)"
   ]
  },
  {
   "cell_type": "code",
   "execution_count": 23,
   "metadata": {},
   "outputs": [
    {
     "name": "stdout",
     "output_type": "stream",
     "text": [
      "9.77957054271812 12.547509713086498\n"
     ]
    }
   ],
   "source": [
    "print(np.std(x1), np.std(x2))"
   ]
  },
  {
   "cell_type": "code",
   "execution_count": 24,
   "metadata": {},
   "outputs": [],
   "source": [
    "from scipy.stats import ttest_rel"
   ]
  },
  {
   "cell_type": "markdown",
   "metadata": {},
   "source": [
    "For a paired t-test<br>\n",
    "H0: ∆ = 0<br>\n",
    "H1: ∆ != 0<br>"
   ]
  },
  {
   "cell_type": "markdown",
   "metadata": {},
   "source": [
    "Perform a two-sided t test"
   ]
  },
  {
   "cell_type": "code",
   "execution_count": 25,
   "metadata": {},
   "outputs": [],
   "source": [
    "statistic, pvalue = ttest_rel(x1, x2)"
   ]
  },
  {
   "cell_type": "code",
   "execution_count": 26,
   "metadata": {},
   "outputs": [
    {
     "name": "stdout",
     "output_type": "stream",
     "text": [
      "-3.324651095085193 0.008874336881492044\n"
     ]
    }
   ],
   "source": [
    "print(statistic, pvalue)"
   ]
  },
  {
   "cell_type": "markdown",
   "metadata": {},
   "source": [
    "p < 0.05 so we can conclude at the 95% confidence level that the two (related) samples come from different populations, and that, in this case, the oral contraceptive does indeed seem to affect blood pressure levels. IN other words we accept the alternative hypothesis"
   ]
  },
  {
   "cell_type": "code",
   "execution_count": 28,
   "metadata": {},
   "outputs": [
    {
     "data": {
      "text/plain": [
       "-4.8"
      ]
     },
     "execution_count": 28,
     "metadata": {},
     "output_type": "execute_result"
    }
   ],
   "source": [
    "(x1 - x2).mean()"
   ]
  },
  {
   "cell_type": "markdown",
   "metadata": {},
   "source": [
    "So the average blood pressure decreased from sample x1 to sample x2, with a mean difference of -4.8 units. "
   ]
  },
  {
   "cell_type": "code",
   "execution_count": 29,
   "metadata": {},
   "outputs": [
    {
     "data": {
      "text/plain": [
       "10"
      ]
     },
     "execution_count": 29,
     "metadata": {},
     "output_type": "execute_result"
    }
   ],
   "source": [
    "len(x1)"
   ]
  },
  {
   "cell_type": "markdown",
   "metadata": {},
   "source": [
    "Even though are sample size is only 10, if the underlying random variable for the blood pressure of this population of women that the sample is taken from is normally distributed, or, if our sample size is large enough, then we can assume the CLT holds and use this t test. \n",
    "\n",
    "*I'm assuming that Dr. Rosner is assuming that the underlying random variable is normally distrbitued, since our sample size is only 10 here...*"
   ]
  },
  {
   "cell_type": "markdown",
   "metadata": {},
   "source": [
    "### Paired 95% CI for the True Difference Between the Underlying Means of Two Paired Samples (Two-Sided)\n",
    "\n",
    "From page 282 of **Fundamentals of Biostatistics, 8th Edition, by Bernard Rosner**:\n",
    "\n",
    "95% CI = $(\\hat{d} − t_{n−1,1−α/2} s_d/\\sqrt n,  \\hat{d} + t_{n−1,1−α/2} s_d/\\sqrt n)$\n",
    "\n",
    "$s_{d}=\\sqrt{\\sum_{i=1}^{n} (d_{i}-\\hat{d})^{2} /(n-1)}$"
   ]
  },
  {
   "cell_type": "code",
   "execution_count": 58,
   "metadata": {},
   "outputs": [],
   "source": [
    "def std_paired(a, b):\n",
    "    assert(len(a) == len(b))\n",
    "    n = len(a)\n",
    "    d = b - a\n",
    "    var = np.sum((d - d.mean())**2) / (n - 1)\n",
    "    std = np.sqrt(var)\n",
    "    return std"
   ]
  },
  {
   "cell_type": "code",
   "execution_count": 59,
   "metadata": {},
   "outputs": [
    {
     "data": {
      "text/plain": [
       "4.565571644870382"
      ]
     },
     "execution_count": 59,
     "metadata": {},
     "output_type": "execute_result"
    }
   ],
   "source": [
    "# calculate the sample standard deviation of the paired data\n",
    "std_paired(x1, x2)"
   ]
  },
  {
   "cell_type": "code",
   "execution_count": 78,
   "metadata": {},
   "outputs": [],
   "source": [
    "def ci_paired(a, b, alpha=0.95):\n",
    "    '''Calculates the confidence interval corresponding to significance {alpha} for two related (i.e. \"paired\") \n",
    "    vectors a and b.\n",
    "    \n",
    "    Parameters:\n",
    "        a -- {np.array}\n",
    "        b -- {np.array}\n",
    "        alpha -- {float}\n",
    "    \n",
    "    Returns:\n",
    "        mean_diff -- {float}\n",
    "        ci -- {tuple}\n",
    "    \n",
    "    '''\n",
    "    \n",
    "    # make sure input vectors are the same length\n",
    "    assert(len(a) == len(b))\n",
    "    n = len(a)\n",
    "    \n",
    "    # calculate mean difference\n",
    "    mean_diff = (b - a).mean()\n",
    "    \n",
    "    # calculate standard deviation of paired samples\n",
    "    s_d = std_paired(a, b)\n",
    "\n",
    "    # generate a t distributed random variable \n",
    "    dof = n - 1 # calculate degrees of freedom\n",
    "    rv = scipy.stats.t(dof) # instantiate A Student’s t continuous random variable\n",
    "    \n",
    "    # get the t statistics for degrees of freedom and specified alpha\n",
    "    t = rv.ppf((1 - alpha) / 2)\n",
    "    t = np.abs(t) \n",
    "    \n",
    "    # calculate ci\n",
    "    print(mean_diff, t, s_d, np.sqrt(n))\n",
    "    ci = (mean_diff - t * (s_d / np.sqrt(n)), mean_diff + t * (s_d / np.sqrt(n)))\n",
    "    \n",
    "    return  mean_diff, ci"
   ]
  },
  {
   "cell_type": "code",
   "execution_count": 79,
   "metadata": {},
   "outputs": [
    {
     "name": "stdout",
     "output_type": "stream",
     "text": [
      "4.8 2.2621571627409915 4.565571644870382 3.1622776601683795\n"
     ]
    },
    {
     "data": {
      "text/plain": [
       "(4.8, (1.5339867942207275, 8.066013205779273))"
      ]
     },
     "execution_count": 79,
     "metadata": {},
     "output_type": "execute_result"
    }
   ],
   "source": [
    "ci_paired(x1, x2, alpha=0.95)"
   ]
  },
  {
   "cell_type": "markdown",
   "metadata": {},
   "source": [
    "### Assumptions for the independent t test\n",
    "\n",
    "1. Underlying population variances that the two samples are drawn from are equal\n",
    "2. Underlying populations are normally distributed"
   ]
  },
  {
   "cell_type": "markdown",
   "metadata": {},
   "source": [
    "*From Section 8.4 of* ***Fundamentals of Biostatistics by Bernard Rosner, 8th Edition***\n",
    "\n",
    "Hypertension Suppose a sample of eight 35- to 39-year-old nonprenant, premeno- pausal OC users who work in a company and have a mean systolic blood pres- sure (SBP) of 132.86 mm Hg and sample standard deviation of 15.34 mm Hg are identified. A sample of 21 nonpregnant, premenopausal, non-OC users in the same age group are similarly identified who have mean SBP of 127.44 mm Hg and sample standard deviation of 18.23 mm Hg. What can be said about the underlying mean difference in blood pressure between the two groups?\n",
    "\n",
    "\n",
    "Assume SBP is normally distributed in the first group with mean μ1 and variance σ1 and in the second group with mean μ2 and variance σ2. We want to test the hypothesis H0: μ1 = μ2 vs. H1: μ1 ≠ μ2. Assume in this section that the underlying variances in the two groups are the same (that is, σ12 = σ2 = σ2). The means and variances in the two samples are denoted by x1 x2 , s12 , s2 , respectively."
   ]
  },
  {
   "cell_type": "markdown",
   "metadata": {},
   "source": [
    "### Estimating the population variance by combining the sample variances\n",
    "\n",
    "Calculate a weighted average of the sample variances.\n",
    "\n",
    "**pooled estimate of the variance** \n",
    "\n",
    "\n",
    "INSERT EQUATION HERE"
   ]
  },
  {
   "cell_type": "code",
   "execution_count": 80,
   "metadata": {},
   "outputs": [],
   "source": [
    "from scipy.stats import ttest_ind, ttest_ind_from_stats"
   ]
  },
  {
   "cell_type": "code",
   "execution_count": 81,
   "metadata": {},
   "outputs": [],
   "source": [
    "# sample data\n",
    "mean1 = 132.86\n",
    "std1 = 15.34\n",
    "nobs1 = 8\n",
    "mean2 = 127.44\n",
    "std2 = 18.23\n",
    "nobs2 = 21"
   ]
  },
  {
   "cell_type": "code",
   "execution_count": 82,
   "metadata": {},
   "outputs": [
    {
     "name": "stdout",
     "output_type": "stream",
     "text": [
      "-5.420000000000016\n"
     ]
    }
   ],
   "source": [
    "print(mean2 - mean1)"
   ]
  },
  {
   "cell_type": "code",
   "execution_count": 83,
   "metadata": {},
   "outputs": [
    {
     "name": "stdout",
     "output_type": "stream",
     "text": [
      "0.7443175718105018 0.46311371461667283\n"
     ]
    }
   ],
   "source": [
    "statistic, pvalue = ttest_ind_from_stats(mean1, std1, nobs1, mean2, std2, nobs2)\n",
    "\n",
    "print(statistic, pvalue)"
   ]
  },
  {
   "cell_type": "markdown",
   "metadata": {},
   "source": [
    "Even though the mean difference between the two samples in both experiments are similar, we get wildly different p values - the paired t-test example rejects H0, whereas the independent t-test example accepts H0.\n",
    "\n",
    "*What this proves for me is that paired t-test is much more sensitive to differences than the independent t-test. In other words, you need a much more significant difference between two independent samples to detect a difference than you would if the samples were paired. This makes intuitive sense because for paired data, we've (supposedly) accounted for many confounding variables, so we can attribute much more of the variance in the measurement of interest between the two (paired) samples to the intervention.*"
   ]
  },
  {
   "cell_type": "markdown",
   "metadata": {},
   "source": [
    "### Calculating the 95% CI \n",
    "\n",
    "the combined variance is just a weighted sum of the individual variances:<br>\n",
    "$s^{2} = { \\left[(n_1 - 1)s_1^2 + (n_2 - 1)s_2^2\\right] / (n_1 + n_2 - 2)}$ <br>\n",
    "\n",
    "take the square root to get the combined standard deviation:<br>\n",
    "$s = \\sqrt{ \\left[(n_1 - 1)s_1^2 + (n_2 - 1)s_2^2\\right] / (n_1 + n_2 - 2)}$<br>\n",
    "\n",
    "\n",
    "As usual, the CI is calculated by taking the average (in this case the difference in means from the two samples) and adding/subtracting the t statistic mulitplied by the standard deviation of the sampling distribution. (for a full derivation, see page 287 from the text).\n",
    "\n",
    "95% CI = $(\\hat{x_1} - \\hat{x_2} − t_{n_1+n_2-2,1−α/2} * s /\\sqrt{1/n_1 + 1/n_2},  \\hat{x_1} - \\hat{x_2} + t_{n_1+n_2-2,1−α/2} * s/\\sqrt{1/n_1 + 1/n_2})$"
   ]
  },
  {
   "cell_type": "code",
   "execution_count": 88,
   "metadata": {},
   "outputs": [],
   "source": [
    "def ci_ind(a, b, alpha=0.95):\n",
    "    '''Calculates the confidence interval corresponding to significance {alpha} for two independent\n",
    "    samples a and b.\n",
    "    \n",
    "    Parameters:\n",
    "        a -- {np.array}\n",
    "        b -- {np.array}\n",
    "        alpha -- {float}\n",
    "    \n",
    "    Returns:\n",
    "        mean_diff -- {float}\n",
    "        ci -- {tuple}\n",
    "    \n",
    "    '''\n",
    "    \n",
    "    # make sure input vectors are the same length\n",
    "    assert(len(a) == len(b))\n",
    "    n1 = len(a)\n",
    "    n2 = len(b)\n",
    "    \n",
    "    s1 = np.std(a)\n",
    "    s2 = np.std(b)\n",
    "    var = ((n1 - 1)*s1**2 + (n2-1)*s2**2) / (n1 + n2 - 2)\n",
    "    std = np.sqrt(var)\n",
    "    \n",
    "    # calculate mean difference\n",
    "    diff = b.mean() - a.mean()\n",
    "    \n",
    "\n",
    "    # generate a t distributed random variable \n",
    "    dof = n1 + n2 - 2 # calculate degrees of freedom\n",
    "    rv = scipy.stats.t(dof) # instantiate A Student’s t continuous random variable\n",
    "    t = rv.ppf((1 - alpha) / 2)\n",
    "    t = np.abs(t) \n",
    "    \n",
    "    # calculate ci\n",
    "    ci = (diff - t * (std / np.sqrt((1/n1) + (1/n2))), diff + t * (std / np.sqrt((1/n1) + (1/n2))))\n",
    "    \n",
    "    return  diff, ci"
   ]
  },
  {
   "cell_type": "code",
   "execution_count": 89,
   "metadata": {},
   "outputs": [
    {
     "data": {
      "text/plain": [
       "(4.800000000000011, (-10.896250035340964, 20.496250035340985))"
      ]
     },
     "execution_count": 89,
     "metadata": {},
     "output_type": "execute_result"
    }
   ],
   "source": [
    "ci_ind(x1, x2)"
   ]
  },
  {
   "cell_type": "markdown",
   "metadata": {},
   "source": [
    "As expected, our CI is much wider and in this case includes 0, re-affirming our un-significant results (based on the p-value from our independent t-test)."
   ]
  }
 ],
 "metadata": {
  "kernelspec": {
   "display_name": "Python 3",
   "language": "python",
   "name": "python3"
  },
  "language_info": {
   "codemirror_mode": {
    "name": "ipython",
    "version": 3
   },
   "file_extension": ".py",
   "mimetype": "text/x-python",
   "name": "python",
   "nbconvert_exporter": "python",
   "pygments_lexer": "ipython3",
   "version": "3.7.9"
  }
 },
 "nbformat": 4,
 "nbformat_minor": 4
}
