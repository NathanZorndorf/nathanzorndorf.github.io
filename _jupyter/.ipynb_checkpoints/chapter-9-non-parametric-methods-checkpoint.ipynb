{
 "cells": [
  {
   "cell_type": "code",
   "execution_count": 6,
   "metadata": {},
   "outputs": [],
   "source": [
    "import pandas as pd\n",
    "import io\n",
    "import requests\n",
    "from IPython.core.display import display, HTML\n",
    "import numpy as np\n",
    "import matplotlib.pyplot as plt\n",
    "import scipy\n",
    "%matplotlib inline\n",
    "%load_ext rpy2.ipython\n",
    "\n",
    "pd.options.display.max_columns = 50"
   ]
  },
  {
   "cell_type": "markdown",
   "metadata": {},
   "source": [
    "Tests covered in Chatper 9:\n",
    "1. Sign Test\n",
    "2. Wilcoxon Signed-Rank Test\n",
    "3. Wilcoxon Rank-Sum Test"
   ]
  },
  {
   "cell_type": "markdown",
   "metadata": {},
   "source": [
    "**Cardinal data** are on a scale where it is meaningful to measure the distance between possible data values.\n",
    "\n",
    "    Ex1. Body weight is a cardinal variable because a difference of 6 lb is twice as large as a difference of 3 lb.\n",
    "\n",
    "For cardinal data, if the zero point is arbitrary, then the data are on an **interval scale**; if the zero point is fixed, then the data are on a **ratio scale**.\n",
    "\n",
    "    Ex1. Body temperature is on an interval scale because the zero point is arbitrary. For example, the zero point has a different meaning for temperatures measured in Fahrenheit vs. Celsius.\n",
    "    \n",
    "    Ex2. Blood pressure and body weight are on ratio scales because the zero point is well defined in both instances.\n",
    "    \n",
    "**Ordinal data** can be ordered but do not have specific numeric values. Thus, common arithmetic cannot be performed on ordinal data in a meaningful way.\n",
    "\n",
    "    Ex1. Visual acuity can be measured on an ordinal scale because we know 20–20 vision is better than 20–30, which is better than 20–40, and so on. How- ever, a numeric value cannot easily be assigned to each level of visual acuity that all ophthalmologists would agree on.\n",
    "    \n",
    "Data are on a **nominal scale** if different data values can be classified into categories but the categories have no specific ordering.\n",
    "\n",
    "    Ex1. In classifying cause of death among patients with documented anal- gesic abuse, the following categories were used: (1) cardiovascular disease, (2) cancer, (3) renal or urogenital disease, and (4) all other causes of death. Cause of death is a good example of a nominal scale because the values (the categories of death) have no specific order with respect to each other."
   ]
  },
  {
   "cell_type": "markdown",
   "metadata": {},
   "source": [
    "# Sign Test\n",
    "\n",
    "**Use Case**:\n",
    "The sign test can be used when you want to perform hypothesis testing using ordinal data that has 3 states. For example, if we wanted to compare video games high scores for two people, A & B, where person A's high score is either greater than, less than, or equal to person B's high score.\n",
    "\n",
    "**In the sign test, we're basically taking two, paired samples (taking n people and observing the effect of applying a treatment) and re-casting that data into a single sample *of differences* (i.e. was there an improvement, deterioration, or no effect at all?).**\n",
    "\n",
    "***Then we test to see if the difference is non-zero.***\n",
    "\n",
    "Since we've recasted the problem as a single sample of differences by calculating a difference d<sub>i</sub> for each sample. We want to test whether the difference is positive or not, we get a binomial distributed random variable (0 = no difference, 1 = positive difference).\n",
    "\n",
    "See https://en.wikipedia.org/wiki/Sign_test for more info.\n",
    "\n",
    "**Assumptions:**\n",
    "1. The differences d<sub>i</sub> are assumed to be independent.\n",
    "2. Each difference d<sub>i</sub> comes from the same continuous population (i.e. the data is paired).\n",
    "3. The values x<sub>i</sub> and y<sub>i</sub> represent are ordered (at least the ordinal scale), so the comparisons \"greater than\", \"less than\", and \"equal to\" are meaningful.\n",
    "4. n >= 20 (where n is the # of non-zero d<sub>i</sub>'s)\n",
    "\n",
    "**Hypotheses:**<br>\n",
    "H0: ∆ = 0<br>\n",
    "Ha: ∆ != 0<br>\n",
    "*Where ∆ is the population median of d<sub>i</sub>, and d<sub>i</sub> is the sign of the difference in observations (x<sub>i</sub> - y<sub>i</sub>).*\n",
    "\n",
    "and a p-value of < 0.05 means that the two samples come from different populations (with type I error threshold = 0.05)\n",
    "\n",
    "alternatively:\n",
    "\n",
    "Let p = Pr(X > Y), and then test the null hypothesis <br>\n",
    "H0: p = 0.50 <br>\n",
    "Ha: p != 0.50 \n",
    "\n",
    "**Alternative tests**:<br>\n",
    "If the data is continuous, then a t-test is more appropriate.<br>\n",
    "If the data is ranked, a wilcoxon signed-rank test is more appropriate. \n",
    "\n",
    "**Mechanics**:<br>\n",
    "1. Python:<br>\n",
    "\n",
    "2. R:<br>\n",
    "`prop.test(x=18, n=45, p=0.5, alternative=\"two.sided\", conf.level=0.95, correct=TRUE)`<br>\n",
    "x = # of samples where d<sub>i</sub> > 0<br>\n",
    "n = # of samples where d<sub>i</sub> != 0<br>"
   ]
  },
  {
   "cell_type": "code",
   "execution_count": null,
   "metadata": {},
   "outputs": [],
   "source": [
    "# from page 340 \n",
    "count = 18\n",
    "nobs = 40\n",
    "value = 0.5"
   ]
  },
  {
   "cell_type": "code",
   "execution_count": 17,
   "metadata": {},
   "outputs": [
    {
     "data": {
      "text/plain": [
       "(-0.635641726163728, 0.5250099664186034)"
      ]
     },
     "execution_count": 17,
     "metadata": {},
     "output_type": "execute_result"
    }
   ],
   "source": [
    "from statsmodels.stats.proportion import proportions_ztest\n",
    "proportions_ztest(count, nobs, value, alternative='two-sided', prop_var=False)"
   ]
  },
  {
   "cell_type": "code",
   "execution_count": 18,
   "metadata": {},
   "outputs": [
    {
     "name": "stdout",
     "output_type": "stream",
     "text": [
      "\n",
      "\t1-sample proportions test with continuity correction\n",
      "\n",
      "data:  count out of nobs, null probability value\n",
      "X-squared = 0.225, df = 1, p-value = 0.6353\n",
      "alternative hypothesis: true p is not equal to 0.5\n",
      "95 percent confidence interval:\n",
      " 0.2960304 0.6134103\n",
      "sample estimates:\n",
      "   p \n",
      "0.45 \n",
      "\n"
     ]
    }
   ],
   "source": [
    "%%R -i count,nobs,value\n",
    "prop.test(x=count, n=nobs, p=value, alternative=\"two.sided\", conf.level=0.95, correct=TRUE)"
   ]
  },
  {
   "cell_type": "markdown",
   "metadata": {},
   "source": [
    "Not sure why I get different p-values from the python implementation and the R implementation, but oh well. Non-significant results mean that the ointment makes no difference. "
   ]
  },
  {
   "cell_type": "code",
   "execution_count": 53,
   "metadata": {},
   "outputs": [
    {
     "data": {
      "image/png": "[encoded data removed]",
      "text/plain": [
       "<Figure size 432x288 with 1 Axes>"
      ]
     },
     "metadata": {
      "needs_background": "light"
     },
     "output_type": "display_data"
    }
   ],
   "source": [
    "from scipy.stats import binom\n",
    "\n",
    "n = 50\n",
    "p = 0.50\n",
    "rv = binom(n, p)\n",
    "# x = np.arange(binom.ppf(0.01, n, p), binom.ppf(0.99, n, p))\n",
    "x = np.arange(start=0, stop=n, step=1)\n",
    "fig, ax = plt.subplots(1, 1)\n",
    "ax.vlines(x, 0, rv.pmf(x), colors='k', linestyles='-', lw=1,\n",
    "        label='frozen pmf')\n",
    "ax.legend(loc='best', frameon=False)\n",
    "plt.show()"
   ]
  },
  {
   "cell_type": "markdown",
   "metadata": {},
   "source": [
    "# Wilcoxon Signed-Rank Test\n",
    "\n",
    "The Wilcoxon Signed-Rank Test is a non-parametric hypothesis test that can test the magnitude of differences (and not just the sign, like in the Sign Test).\n",
    "\n",
    "**Analogous to the Paired t-Test for continuous data**\n",
    "\n",
    "The test is based on the sum of the ranks, or the rank sum (R<sub>1</sub>), for the group of people with positive d<sub>i</sub> (the rank sum for people for whom treatment A is worse than treatment B)\n",
    "\n",
    "**Assumptions**:\n",
    "1. n >= 16 (where n is the # of non-zero d<sub>i</sub>'s, as then the normal approximation can be used for the sampling distribution of R<sub>1</sub>)\n",
    "2. Continuous, symmetric (but not necessarily normal) distribution\n",
    "\n",
    "**Hypothesis Testing**:<br>\n",
    "H0: ∆ = 0<br>\n",
    "Ha: ∆ != 0<br>\n",
    "*Where ∆ is the population median of d<sub>i</sub>, and d<sub>i</sub> is the difference in observations (x<sub>i</sub> - y<sub>i</sub>).*\n",
    "\n",
    "*More generally:<br>*\n",
    "H0: the distribution of the differences d<sub>i</sub> are symmetric around 0<br>\n",
    "Ha: the distribution of the differences d<sub>i</sub> are not symmetric around 0\n",
    "\n",
    "**Alternative Tests**\n",
    "1. Sign Test, if magnitude of differences it not a concern, however the sign test has less power than the Wilcoxon Signed-Rank test\n",
    "2. For cardinal data that is normally distributed, the Paired t-test will have more power. \n",
    "\n",
    "**Mechanics**:\n",
    "1. Python<br>\n",
    "`scipy.stats.wilcoxon(x, y=None, zero_method='wilcox', correction=True, alternative='two-sided')`\n",
    "2. R <br>\n",
    "One set of paired differences: <br>\n",
    "`wilcox.test(x, y = NULL, alternative = \"two-sided\", mu = 0, paired = FALSE, exact = NULL, correct = TRUE, conf.int = FALSE)`<br>\n",
    "Two sets of paired scores:<br>\n",
    "`wilcox.test(x, y, alternative = \"two-sided\", mu = 0, paired = FALSE, exact = NULL, correct = TRUE, conf.int = FALSE)`"
   ]
  },
  {
   "cell_type": "code",
   "execution_count": 31,
   "metadata": {},
   "outputs": [],
   "source": [
    "# from example 9.16 on page 351\n",
    "d = [-8, -7, -7, -7, -6, -6, -5, -5, -4, -3, -3, -3, -3, -3, \n",
    "     -2,-2,-2,-2,-1,-1,-1,-1, 1, 1, 1, 1, 1, 1, 1, 1, 1, 1, 2, 2, 2, 2, 2, 2, 3, 3]"
   ]
  },
  {
   "cell_type": "code",
   "execution_count": 33,
   "metadata": {},
   "outputs": [
    {
     "data": {
      "text/plain": [
       "40"
      ]
     },
     "execution_count": 33,
     "metadata": {},
     "output_type": "execute_result"
    }
   ],
   "source": [
    "len(d)"
   ]
  },
  {
   "cell_type": "code",
   "execution_count": 38,
   "metadata": {},
   "outputs": [
    {
     "name": "stderr",
     "output_type": "stream",
     "text": [
      "/Users/naekid/opt/anaconda3/envs/personal/lib/python3.7/site-packages/seaborn/distributions.py:2551: FutureWarning: `distplot` is a deprecated function and will be removed in a future version. Please adapt your code to use either `displot` (a figure-level function with similar flexibility) or `histplot` (an axes-level function for histograms).\n",
      "  warnings.warn(msg, FutureWarning)\n"
     ]
    },
    {
     "data": {
      "image/png": "[encoded data removed]",
      "text/plain": [
       "<Figure size 432x288 with 1 Axes>"
      ]
     },
     "metadata": {
      "needs_background": "light"
     },
     "output_type": "display_data"
    }
   ],
   "source": [
    "import seaborn as sns\n",
    "\n",
    "sns.distplot(d, color=\"m\", kde=False);"
   ]
  },
  {
   "cell_type": "code",
   "execution_count": 40,
   "metadata": {},
   "outputs": [
    {
     "data": {
      "text/plain": [
       "-1.35"
      ]
     },
     "execution_count": 40,
     "metadata": {},
     "output_type": "execute_result"
    }
   ],
   "source": [
    "np.mean(d)"
   ]
  },
  {
   "cell_type": "markdown",
   "metadata": {},
   "source": [
    "It certainly appears that the distribution is centered to the left of 0, and the average is < 0, but is the result significant? "
   ]
  },
  {
   "cell_type": "code",
   "execution_count": 24,
   "metadata": {},
   "outputs": [
    {
     "data": {
      "text/plain": [
       "WilcoxonResult(statistic=248.0, pvalue=0.028692758272822194)"
      ]
     },
     "execution_count": 24,
     "metadata": {},
     "output_type": "execute_result"
    }
   ],
   "source": [
    "from scipy.stats import wilcoxon\n",
    "wilcoxon(d, y=None, zero_method='wilcox', correction=True, alternative='two-sided')"
   ]
  },
  {
   "cell_type": "code",
   "execution_count": 25,
   "metadata": {},
   "outputs": [
    {
     "name": "stderr",
     "output_type": "stream",
     "text": [
      "R[write to console]: Error in wilcox.test.default(d, y = NULL, alternative = \"two.sided\", mu = 0,  : \n",
      "  'x' must be numeric\n",
      "\n"
     ]
    },
    {
     "name": "stdout",
     "output_type": "stream",
     "text": [
      "\n",
      "Error in wilcox.test.default(d, y = NULL, alternative = \"two.sided\", mu = 0,  : \n",
      "  'x' must be numeric\n"
     ]
    }
   ],
   "source": [
    "%%R -i d\n",
    "wilcox.test(d,y=NULL,alternative=\"two.sided\",mu=0,paired=FALSE, exact=NULL,correct=TRUE,conf.int=FALSE)"
   ]
  },
  {
   "cell_type": "markdown",
   "metadata": {},
   "source": [
    "OK, this time R didn't work out for us, but we got the same answer as the text did using the python implementation. The results are significant at the 5% level, but is ointment A better or worse than ointment B?\n",
    "\n",
    "In order to determine that, we can probably just look at the distribution of these differences, but I think technically we would need to compare the calculated rank sum (248.0) to the an expected rank sum under the null hypothesis. \n",
    "\n",
    "Under H0: <br>\n",
    "E(R1)=n(n+1)/4<br>\n",
    "Var(R1)=n(n+1)(2n+1)/24<br>"
   ]
  },
  {
   "cell_type": "code",
   "execution_count": 30,
   "metadata": {},
   "outputs": [
    {
     "name": "stdout",
     "output_type": "stream",
     "text": [
      "410.0\n"
     ]
    }
   ],
   "source": [
    "# so since n = 40, we have \n",
    "n = len(d)\n",
    "print(n * (n+1) / 4)"
   ]
  },
  {
   "cell_type": "markdown",
   "metadata": {},
   "source": [
    "248 < 410.\n",
    "\n",
    "We calculated the differences d<sub>i</sub> by taking the result on arm A and subtracting the result on arm B for each paired sample. So under H0, we'd expect the differences to be centered around 0\n",
    "\n",
    "The test statistic 248 is calculated by calculating the rank sum for only the positive differences (where ointment B performed better than ointment A). \n",
    "\n",
    "*See text for how to calculate rank sum but it's just the SUM(count[i] * average_rank[i], for each i where d[i] > 0)*\n",
    "\n",
    "Ex: R1 =10(7.5)+6(19.5)+2(28.0)=75+117+56=248\n",
    "\n",
    "**Since 248 < 410, ointment B performs worse than ointment A.**"
   ]
  },
  {
   "cell_type": "markdown",
   "metadata": {},
   "source": [
    "# Wilcoxon Rank-Sum Test\n",
    "\n",
    "**Nonparametric analog to t test for two independent samples.**\n",
    "\n",
    "*Also sometimes known as the Mann-Whitney U test*\n",
    "\n",
    "**Mechanics**:\n",
    "1. Python<br>\n",
    "2. R <br>\n",
    "`wilcox.test(x, y, alternative = \"two-sided\", mu=0, paired = FALSE, exact = NULL, correct = TRUE, conf.int = FALSE)`<br>"
   ]
  },
  {
   "cell_type": "markdown",
   "metadata": {},
   "source": [
    "In a study, 28 adults with mild periodontal disease are assessed before and 6 months after implementation of a dental-education program intended to promote better oral hygiene. After 6 months, periodontal status improved in 15 patients, declined in 8, and remained the same in 5."
   ]
  },
  {
   "cell_type": "markdown",
   "metadata": {},
   "source": [
    "*9.1 Assess the impact of the program statistically (use a two-sided test).\n",
    "Suppose patients are graded on the degree of change in periodontal status on a 7-point scale, with +3 indicating the greatest improvement, 0 indicating no change, and −3 indi- cating the greatest decline. The data are given in Table 9.9."
   ]
  },
  {
   "cell_type": "code",
   "execution_count": null,
   "metadata": {},
   "outputs": [],
   "source": []
  },
  {
   "cell_type": "markdown",
   "metadata": {},
   "source": [
    "9.2 What nonparametric test can be used to determine whether a significant change in periodontal status has occurred over time?"
   ]
  },
  {
   "cell_type": "code",
   "execution_count": null,
   "metadata": {},
   "outputs": [],
   "source": []
  },
  {
   "cell_type": "markdown",
   "metadata": {},
   "source": [
    "9.3 Implement the procedure in Problem 9.2, and report a p-value."
   ]
  },
  {
   "cell_type": "code",
   "execution_count": null,
   "metadata": {},
   "outputs": [],
   "source": []
  }
 ],
 "metadata": {
  "kernelspec": {
   "display_name": "Python 3",
   "language": "python",
   "name": "python3"
  },
  "language_info": {
   "codemirror_mode": {
    "name": "ipython",
    "version": 3
   },
   "file_extension": ".py",
   "mimetype": "text/x-python",
   "name": "python",
   "nbconvert_exporter": "python",
   "pygments_lexer": "ipython3",
   "version": "3.7.7"
  }
 },
 "nbformat": 4,
 "nbformat_minor": 4
}
