{
 "cells": [
  {
   "cell_type": "code",
   "execution_count": 3,
   "metadata": {},
   "outputs": [],
   "source": [
    "import numpy as np\n",
    "import pandas as pd"
   ]
  },
  {
   "cell_type": "markdown",
   "metadata": {},
   "source": [
    "**Cardiovascular Disease**<br>\n",
    "Consider the Physicians’ Health Study data presented in Example 10.37 (p. 411)."
   ]
  },
  {
   "cell_type": "markdown",
   "metadata": {},
   "source": [
    "Ex 10.36:<br>\n",
    "Participants were 22,000 male physicians ages 40−84 and free of cardiovascular disease in 1982. The physicians were randomized to either active aspirin (one white pill containing 325 mg of aspirin taken every other day) or aspirin placebo (one white placebo pill taken every other day). As the study progressed, it was estimated from self-report that 10% of the participants in the aspirin group were not complying (that is, were not taking their study [aspirin] capsules). Thus, the dropout rate was 10%. Also, it was estimated from self-report that 5% of the participants in the placebo group were taking aspirin regularly on their own outside the study protocol. Thus, the drop-in rate was 5%.\n",
    "\n",
    "Ex 10.37:<br>\n",
    "Suppose we assume that the incidence of MI is .005 per year among participants who actually take placebo and that aspirin prevents 20% of MIs (i.e., relative risk = p1/p2 = 0.8). We also assume that the duration of the study is 5 years and that the dropout rate in the aspirin group = 10% and the drop- in rate in the placebo group = 5%. How many participants need to be enrolled in each group to achieve 80% power using a two-sided test with significance level = .05?"
   ]
  },
  {
   "cell_type": "markdown",
   "metadata": {},
   "source": [
    "*The incidence of MI is 0.005 **per year** for the placebo group, therefore the 5-year incidence rate of MI is 5 * 0.005 = 0.025*"
   ]
  },
  {
   "cell_type": "markdown",
   "metadata": {},
   "source": [
    "10.1 How many participants need to be enrolled in each group to have a 90% chance of detecting a significant difference using a two-sided test with α = .05 if compliance is perfect?"
   ]
  },
  {
   "cell_type": "code",
   "execution_count": 73,
   "metadata": {},
   "outputs": [
    {
     "name": "stdout",
     "output_type": "stream",
     "text": [
      "Number of subjects per group: 18431\n",
      "Number of subjects in the study: 36863\n"
     ]
    }
   ],
   "source": [
    "import statsmodels.stats.api as sms\n",
    "p1 = 0.025 # placebo rate\n",
    "p2 = 0.02 # p1/p2 = 0.8 # treatment rate\n",
    "power = 0.9\n",
    "alpha = 0.05\n",
    "ratio = 1\n",
    "nobs1 = None\n",
    "es = sms.proportion_effectsize(prop1=p1, prop2=p2, method='normal')\n",
    "n = sms.NormalIndPower().solve_power(es, nobs1, alpha, power, ratio=1, alternative='two-sided')\n",
    "print(f'Number of subjects per group: {round(n)}')\n",
    "print(f'Number of subjects in the study: {round(2*n)}')"
   ]
  },
  {
   "cell_type": "markdown",
   "metadata": {},
   "source": [
    "~18,431 subjects per group (or 36,862 total) are need to be enrolled in each group to have a 90% chance of measuring a 20% drop in relative risk in the case group compared with the control group, at the 5% significance level. "
   ]
  },
  {
   "cell_type": "markdown",
   "metadata": {},
   "source": [
    "10.2 Answer Problem 10.1 if compliance is as given in Example 10.37."
   ]
  },
  {
   "cell_type": "markdown",
   "metadata": {},
   "source": [
    "λ1 = dropout rate = proportion of participants in the active-treatment group who fail to comply<br>\n",
    "λ2 = drop-in rate = proportion of participants in the placebo group who receive the active treatment outside the study protocol"
   ]
  },
  {
   "cell_type": "code",
   "execution_count": 74,
   "metadata": {},
   "outputs": [
    {
     "name": "stdout",
     "output_type": "stream",
     "text": [
      "Number of subjects in the study: 51021\n"
     ]
    }
   ],
   "source": [
    "# From equation 10.17 in the book...\n",
    "gamma1 = 0.05 # drop-in rate of placebo group\n",
    "gamma2 = 0.1 # drop-out rate of active treatment group\n",
    "n_non_compliance = n / (1 - gamma1 - gamma2) ** 2 # we can use the approximation since both gamma1 and gamma2 are <= 0.1\n",
    "print(f'Number of subjects in the study: {round(2*n_non_compliance)}')"
   ]
  },
  {
   "cell_type": "markdown",
   "metadata": {},
   "source": [
    "The number of subjects increases significantly if we factor in drop-in and drop-outs. "
   ]
  },
  {
   "cell_type": "markdown",
   "metadata": {},
   "source": [
    "10.3 Answer Problem 10.1 if a one-sided test with power = .8 is used and compliance is perfect."
   ]
  },
  {
   "cell_type": "code",
   "execution_count": 75,
   "metadata": {},
   "outputs": [
    {
     "name": "stdout",
     "output_type": "stream",
     "text": [
      "10845\n",
      "Number of subjects in the study: 21690\n"
     ]
    }
   ],
   "source": [
    "power = 0.8\n",
    "alpha = 0.05\n",
    "ratio = 1\n",
    "nobs1 = None\n",
    "n = sms.NormalIndPower().solve_power(es, nobs1, alpha, power, ratio=1, alternative='larger')\n",
    "n = round(n)\n",
    "print(round(n))\n",
    "print(f'Number of subjects in the study: {round(2*n)}')"
   ]
  },
  {
   "cell_type": "markdown",
   "metadata": {},
   "source": [
    "Not surprisingly, fewer participants are required when the power requirement is decreased."
   ]
  },
  {
   "cell_type": "markdown",
   "metadata": {},
   "source": [
    "10.4 Suppose 11,000 men are actually enrolled in each treatment group. What would be the power of such a study if a two-sided test with α = .05 were used and compliance is perfect?"
   ]
  },
  {
   "cell_type": "code",
   "execution_count": 76,
   "metadata": {},
   "outputs": [
    {
     "name": "stdout",
     "output_type": "stream",
     "text": [
      "Power of the study: 0.8049190217750068\n"
     ]
    }
   ],
   "source": [
    "power = None\n",
    "alpha = 0.05\n",
    "ratio = 1\n",
    "nobs1 = 11000\n",
    "power = sms.NormalIndPower().solve_power(es, nobs1, alpha, power, ratio=1, alternative='larger')\n",
    "print(f'Power of the study: {power}')"
   ]
  },
  {
   "cell_type": "markdown",
   "metadata": {},
   "source": [
    "The power would be 80.4% chance of detecting a significant difference."
   ]
  },
  {
   "cell_type": "markdown",
   "metadata": {},
   "source": [
    "10.5 Answer Problem 10.4 if compliance is as given in Example 10.37."
   ]
  },
  {
   "cell_type": "markdown",
   "metadata": {},
   "source": [
    "*The power formula for the comparison of binomial proportions in Equation\n",
    "10.14 also assumes perfect compliance. To correct these estimates for noncompli-\n",
    "ance in a clinical trial setting, replace p , p , ∆, p , and q in Equation 10.14 with 12\n",
    "p*, p* , ∆*, p*, q* as given in Equation 10.17.*"
   ]
  },
  {
   "cell_type": "markdown",
   "metadata": {},
   "source": [
    "$$\n",
    "\\begin{aligned}\n",
    "p_{1}^{*} &=\\left(1-\\lambda_{1}\\right) p_{1}+\\lambda_{1} p_{2} \\\\\n",
    "p_{2}^{*} &=\\left(1-\\lambda_{2}\\right) p_{2}+\\lambda_{2} p_{1} \\\\\n",
    "\\end{aligned}\n",
    "$$"
   ]
  },
  {
   "cell_type": "code",
   "execution_count": 94,
   "metadata": {},
   "outputs": [
    {
     "name": "stdout",
     "output_type": "stream",
     "text": [
      "0.5643322663207736\n"
     ]
    }
   ],
   "source": [
    "nobs = 11000\n",
    "alpha = 0.05\n",
    "power = None\n",
    "\n",
    "# adjust rates for dropin/dropout\n",
    "p1_star = (1-gamma1)*p1 + gamma1*p2 # p1 = placebo rate\n",
    "p2_star = (1-gamma2)*p2 + gamma2*p1 # p2 = aspirin rate\n",
    "es = sms.proportion_effectsize(prop1=p1_star, prop2=p2_star, method='normal')\n",
    "power = sms.NormalIndPower().solve_power(es, nobs1, alpha, power, ratio=1, alternative='two-sided')\n",
    "print(power)"
   ]
  },
  {
   "cell_type": "markdown",
   "metadata": {},
   "source": [
    "The power drops to 56.4% when we incorporate the dropin and dropout rates."
   ]
  },
  {
   "cell_type": "markdown",
   "metadata": {},
   "source": [
    "10.6 Refer to Table 2.13 (p. 36).<br>\n",
    "What significance test can be used to assess whether there is a relationship between receiving an antibiotic and receiving a bacterial culture while in the hospital?"
   ]
  },
  {
   "cell_type": "markdown",
   "metadata": {},
   "source": [
    "A test of association / independence can be used. "
   ]
  },
  {
   "cell_type": "markdown",
   "metadata": {},
   "source": [
    "10.7 Perform the test in Problem 10.6, and report a p-value."
   ]
  },
  {
   "cell_type": "code",
   "execution_count": 100,
   "metadata": {},
   "outputs": [
    {
     "name": "stdout",
     "output_type": "stream",
     "text": [
      "1.0\n"
     ]
    }
   ],
   "source": [
    "from scipy.stats import chi2_contingency\n",
    "observed = [[7, 18], [6, 19]]\n",
    "chi2, pvalue, dof, exp = chi2_contingency(observed, correction=True)\n",
    "print(pvalue)"
   ]
  },
  {
   "cell_type": "markdown",
   "metadata": {},
   "source": [
    "Since alpha > 0.05, we accept the null hypothesis that p1 = p2 and conclude that there is an association between receiving a bacterial culture and receiving an anti-biotitic."
   ]
  },
  {
   "cell_type": "markdown",
   "metadata": {},
   "source": [
    "**Gastroenterology**<br>\n",
    "Two drugs (A, B) are compared for the medical treatment of duodenal ulcer. For this purpose, patients are carefully matched with regard to age, gender, and clinical condition. The treatment results based on 200 matched pairs show that for 89 matched pairs both treatments are effective; for 90 matched pairs both treatments are ineffective; for 5 matched pairs drug A is effective, whereas drug B is ineffective; and for 16 matched pairs drug B is effective, whereas drug A is ineffective."
   ]
  },
  {
   "cell_type": "markdown",
   "metadata": {},
   "source": [
    "10.8 What test procedure can be used to assess the results?"
   ]
  },
  {
   "cell_type": "code",
   "execution_count": 107,
   "metadata": {},
   "outputs": [
    {
     "name": "stdout",
     "output_type": "stream",
     "text": [
      "Number of discordant pairs = 21\n"
     ]
    }
   ],
   "source": [
    "n_d = 5 + 16 # number of discordant pairs\n",
    "print(f'Number of discordant pairs = {n_d}')"
   ]
  },
  {
   "cell_type": "markdown",
   "metadata": {},
   "source": [
    "Since the # of discordant pairs is > 20, and the data are paired involving proportions, McNemar's test can be used. "
   ]
  },
  {
   "cell_type": "markdown",
   "metadata": {},
   "source": [
    "10.9 Perform the test in Problem 10.8, and report a p-value."
   ]
  },
  {
   "cell_type": "code",
   "execution_count": 11,
   "metadata": {},
   "outputs": [
    {
     "name": "stdout",
     "output_type": "stream",
     "text": [
      "pvalue      0.026603698730468753\n",
      "statistic   5.0\n"
     ]
    }
   ],
   "source": [
    "from statsmodels.stats.contingency_tables import mcnemar\n",
    "table = [[89,16],[5,90]]\n",
    "results = mcnemar(table, exact=True, correction=True)\n",
    "print(results)"
   ]
  },
  {
   "cell_type": "markdown",
   "metadata": {},
   "source": [
    "Since p = 0.026 < 0.05, we can conclude that the drug does not have a significant affect on the treatment of duodenal ulcers."
   ]
  },
  {
   "cell_type": "markdown",
   "metadata": {},
   "source": [
    "**Sexually Transmitted Disease**<br>\n",
    "Suppose researchers do an epidemiologic investigation of people entering a sexually transmitted disease clinic. They find that 160 of 200 patients who are diagnosed as having gonorrhea and 50 of 105 patients who are diagnosed as having nongonococcal urethritis have had previous episodes of urethritis.\n",
    "\n",
    "10.13 Are the present diagnosis and prior episodes of urethritis associated?"
   ]
  },
  {
   "cell_type": "code",
   "execution_count": null,
   "metadata": {},
   "outputs": [],
   "source": []
  },
  {
   "cell_type": "markdown",
   "metadata": {},
   "source": [
    "So, if urethritis is unrelated to diagnoses of gonorrhea and nongonococcal urethritis, then the proportion of patients with gonorrhea who have had previous episodes of urethritis (p1) should be 0.5 (or at least, not significantly different than 0.5). The same goes for the proportion patients diagnosed with nongonococcal urethritis (p2). Therefore, we can use an 2 x K contingency table and the chi-square test for association to test whether an association exists or not, (assuming the assumptions for the test are met). \n",
    "\n",
    "So therefore:<br>\n",
    "H0: There is no association, i.e. p1 = p2 = p3 (= 0.5)<br>\n",
    "HA: There is an association, i.e. at least two samples are not from the same population (don't have a rate of 0.5), which would mean that there is no significant association. "
   ]
  },
  {
   "cell_type": "markdown",
   "metadata": {},
   "source": [
    "**Assumptions:**\n",
    "- No more than 1/5 of the cells have expected values < 5. and\n",
    "- No cell has an expected value < 1."
   ]
  },
  {
   "cell_type": "markdown",
   "metadata": {},
   "source": [
    "The question is talking about two groups (i.e. samples) of patients - those with gonorrhea, and patients without gonorrhea. The question gives us the data on how many patients within each of the two groups had previous diagnoses of urethritis, and then asks if having been diagnosed with urethritis in the past is associated with a diagnosis of gonorrhea."
   ]
  },
  {
   "cell_type": "code",
   "execution_count": 108,
   "metadata": {},
   "outputs": [
    {
     "name": "stdout",
     "output_type": "stream",
     "text": [
      "32.170242645303745 1.4123745276875494e-08\n"
     ]
    }
   ],
   "source": [
    "## solution based on solution from chegg, now that I understand what the question is asking...\n",
    "from scipy.stats import chi2_contingency\n",
    "observed = [[160, 40], [50, 55]]\n",
    "chi2, pvalue, dof, exp = chi2_contingency(observed)\n",
    "print(chi2, pvalue)"
   ]
  },
  {
   "cell_type": "markdown",
   "metadata": {},
   "source": [
    "- H0: p1 = p2\n",
    "- HA: p1 != p2\n",
    "\n",
    "Since p < 0.05, we can reject the null and accept HA, that there is an association between previous diagnoses of urehtritis and gonnohrea."
   ]
  },
  {
   "cell_type": "code",
   "execution_count": 24,
   "metadata": {},
   "outputs": [
    {
     "name": "stdout",
     "output_type": "stream",
     "text": [
      "0.8\n",
      "0.47619047619047616\n"
     ]
    }
   ],
   "source": [
    "p1 = 160/200\n",
    "print(p1)\n",
    "p2 = 50/105\n",
    "print(p2)\n",
    "n_total = 305\n",
    "p3 = 0.5"
   ]
  },
  {
   "cell_type": "code",
   "execution_count": 19,
   "metadata": {},
   "outputs": [
    {
     "data": {
      "text/plain": [
       "152.5"
      ]
     },
     "execution_count": 19,
     "metadata": {},
     "output_type": "execute_result"
    }
   ],
   "source": [
    "305 * 0.5"
   ]
  },
  {
   "cell_type": "code",
   "execution_count": 25,
   "metadata": {},
   "outputs": [
    {
     "name": "stdout",
     "output_type": "stream",
     "text": [
      "            0          1       2\n",
      "0   81.147541  42.602459  123.75\n",
      "1  118.852459  62.397541  181.25\n",
      "4.139514165505269e-12\n"
     ]
    }
   ],
   "source": [
    "from scipy.stats import chi2_contingency\n",
    "observed = [[40, 55, 152.5], [160, 50, 152.5]]\n",
    "chi2, pvalue, dof, exp = chi2_contingency(observed)\n",
    "print(pd.DataFrame(exp))\n",
    "print(pvalue)"
   ]
  },
  {
   "cell_type": "markdown",
   "metadata": {},
   "source": [
    "We can reject H0 and accept HA, that there is an association between urethritis and at least one of the populations under study (gonorrhea and nongonococcal urethritis).\n",
    "\n",
    "But which one would it be?"
   ]
  },
  {
   "cell_type": "code",
   "execution_count": 35,
   "metadata": {},
   "outputs": [
    {
     "name": "stdout",
     "output_type": "stream",
     "text": [
      "            0           1\n",
      "0   76.237624  116.262376\n",
      "1  123.762376  188.737624\n",
      "2.1551565213831957e-11\n"
     ]
    }
   ],
   "source": [
    "from scipy.stats import chi2_contingency\n",
    "observed = [[40, 152.5], [160, 152.5]]\n",
    "chi2, pvalue, dof, exp = chi2_contingency(observed)\n",
    "print(pd.DataFrame(exp))\n",
    "print(pvalue)"
   ]
  },
  {
   "cell_type": "markdown",
   "metadata": {},
   "source": [
    "alternatively, using a z-test:<br>\n",
    "H0: p1 = p3<br>\n",
    "Ha: p1 != p3<br>"
   ]
  },
  {
   "cell_type": "code",
   "execution_count": 37,
   "metadata": {},
   "outputs": [
    {
     "name": "stdout",
     "output_type": "stream",
     "text": [
      "3.687535748815112e-26\n"
     ]
    }
   ],
   "source": [
    "from statsmodels.stats.weightstats import ztest\n",
    "x1 = np.concatenate((np.ones(160), np.zeros(40)))\n",
    "tstat, pvalue = ztest(x1=x1, x2=None, value=0.5, alternative='two-sided')\n",
    "print(pvalue)"
   ]
  },
  {
   "cell_type": "markdown",
   "metadata": {},
   "source": [
    "And we can reject the null hypothesis and accept the alternative, that the rate of urethritis for patients diagnosed with gonnorhea is not 0.5, and thus there is some association for the two groups. "
   ]
  },
  {
   "cell_type": "markdown",
   "metadata": {},
   "source": [
    "What about the group diagnosed with nongonococcal urethritis?"
   ]
  },
  {
   "cell_type": "code",
   "execution_count": 39,
   "metadata": {},
   "outputs": [
    {
     "name": "stdout",
     "output_type": "stream",
     "text": [
      "0.6268449135173175\n"
     ]
    }
   ],
   "source": [
    "from statsmodels.stats.weightstats import ztest\n",
    "x1 = np.concatenate((np.ones(50), np.zeros(55)))\n",
    "tstat, pvalue = ztest(x1=x1, x2=None, value=0.5, alternative='two-sided')\n",
    "print(pvalue)"
   ]
  },
  {
   "cell_type": "markdown",
   "metadata": {},
   "source": [
    "Since p > 0.05, we cannot reject the null and must accept it - there is no association between diagnoses of nongonococcal urethritis and prior diagnoses of urethritis. "
   ]
  },
  {
   "cell_type": "markdown",
   "metadata": {},
   "source": [
    "10.14<br>\n",
    "\n",
    "A 1980 study investigated the relationship between the use of OCs and the development of endometrial cancer [9]. The researchers found that of 117 endometrial-cancer patients, 6 had used the OC Oracon at some time in their lives, whereas 8 of the 395 controls had used this agent. Test for an association between the use of Oracon and the incidence of endometrial cancer, using a two-tailed test."
   ]
  },
  {
   "cell_type": "code",
   "execution_count": 111,
   "metadata": {},
   "outputs": [],
   "source": [
    "p1 = 6 / 117\n",
    "p2 = 8 / 395"
   ]
  },
  {
   "cell_type": "markdown",
   "metadata": {},
   "source": [
    "H0: p1 = p2<br>\n",
    "Ha: p1 != p2"
   ]
  },
  {
   "cell_type": "code",
   "execution_count": 126,
   "metadata": {},
   "outputs": [],
   "source": [
    "count = [6, 8]\n",
    "nobs = [117, 395]"
   ]
  },
  {
   "cell_type": "code",
   "execution_count": 129,
   "metadata": {},
   "outputs": [
    {
     "data": {
      "text/plain": [
       "(1.8076484117100218, 0.07066123842631354)"
      ]
     },
     "execution_count": 129,
     "metadata": {},
     "output_type": "execute_result"
    }
   ],
   "source": [
    "# z-test method\n",
    "# from statsmodels.stats.weightstats import ztest\n",
    "# ztest(x1, x2=None, value=0, alternative='two-sided', usevar='pooled', ddof=1.0)\n",
    "\n",
    "from statsmodels.stats.proportion import proportions_ztest\n",
    "proportions_ztest(count, nobs, value=None, alternative='two-sided')\n",
    "\n",
    "# from statsmodels.stats.proportion import test_proportions_2indep\n",
    "# test_proportions_2indep(count1, nobs1, count2, nobs2, value=None, method=None, compare='diff', alternative='two-sided', correction=True, return_results=True"
   ]
  },
  {
   "cell_type": "code",
   "execution_count": 136,
   "metadata": {},
   "outputs": [
    {
     "name": "stdout",
     "output_type": "stream",
     "text": [
      "3.2675927803577642 0.07066123842631342\n"
     ]
    }
   ],
   "source": [
    "from scipy.stats import chi2_contingency\n",
    "observed = [[111, 6], [387, 8]]\n",
    "chi2, pvalue, dof, exp = chi2_contingency(observed, correction=False)\n",
    "print(chi2, pvalue)"
   ]
  },
  {
   "cell_type": "code",
   "execution_count": 137,
   "metadata": {},
   "outputs": [
    {
     "name": "stdout",
     "output_type": "stream",
     "text": [
      "[[113.80078125   3.19921875]\n",
      " [384.19921875  10.80078125]]\n"
     ]
    }
   ],
   "source": [
    "print(exp)"
   ]
  },
  {
   "cell_type": "markdown",
   "metadata": {},
   "source": [
    "since p = 0.07 > 0.05, we cannt reject the null that p1 = p2, and so we can conclude that the rate of cancer in the two groups is not significantly different. "
   ]
  },
  {
   "cell_type": "markdown",
   "metadata": {},
   "source": [
    "10.19 \n",
    "\n",
    "Provide a point estimate and a 95% confidence interval for the prevalence of otorrhea at 2 weeks in the observation group."
   ]
  },
  {
   "cell_type": "code",
   "execution_count": 106,
   "metadata": {},
   "outputs": [
    {
     "name": "stdout",
     "output_type": "stream",
     "text": [
      "p = 0.5466666666666666\n",
      "ci = (0.4340020397707578, 0.6593312935625755)\n"
     ]
    }
   ],
   "source": [
    "from statsmodels.stats.proportion import proportion_confint\n",
    "count = 41\n",
    "nobs = 75\n",
    "ci = proportion_confint(count, nobs, alpha=0.05, method='normal')\n",
    "p = count / nobs\n",
    "print(f'p = {p}')\n",
    "print(f'ci = {ci}')"
   ]
  }
 ],
 "metadata": {
  "kernelspec": {
   "display_name": "Python 3",
   "language": "python",
   "name": "python3"
  },
  "language_info": {
   "codemirror_mode": {
    "name": "ipython",
    "version": 3
   },
   "file_extension": ".py",
   "mimetype": "text/x-python",
   "name": "python",
   "nbconvert_exporter": "python",
   "pygments_lexer": "ipython3",
   "version": "3.7.7"
  }
 },
 "nbformat": 4,
 "nbformat_minor": 4
}
