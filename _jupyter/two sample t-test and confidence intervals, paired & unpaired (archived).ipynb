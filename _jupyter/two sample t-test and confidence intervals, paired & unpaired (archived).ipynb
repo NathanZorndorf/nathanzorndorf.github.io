{
 "cells": [
  {
   "cell_type": "code",
   "execution_count": 1,
   "metadata": {},
   "outputs": [],
   "source": [
    "import pandas as pd\n",
    "import io\n",
    "import requests\n",
    "from IPython.core.display import display, HTML\n",
    "import numpy as np\n",
    "import matplotlib.pyplot as plt\n",
    "import scipy\n",
    "%matplotlib inline\n",
    "\n",
    "pd.options.display.max_columns = 50"
   ]
  },
  {
   "cell_type": "code",
   "execution_count": 2,
   "metadata": {},
   "outputs": [
    {
     "data": {
      "text/html": [
       "<div>\n",
       "<style scoped>\n",
       "    .dataframe tbody tr th:only-of-type {\n",
       "        vertical-align: middle;\n",
       "    }\n",
       "\n",
       "    .dataframe tbody tr th {\n",
       "        vertical-align: top;\n",
       "    }\n",
       "\n",
       "    .dataframe thead th {\n",
       "        text-align: right;\n",
       "    }\n",
       "</style>\n",
       "<table border=\"1\" class=\"dataframe\">\n",
       "  <thead>\n",
       "    <tr style=\"text-align: right;\">\n",
       "      <th></th>\n",
       "      <th>id</th>\n",
       "      <th>chol</th>\n",
       "      <th>stab.glu</th>\n",
       "      <th>hdl</th>\n",
       "      <th>ratio</th>\n",
       "      <th>glyhb</th>\n",
       "      <th>location</th>\n",
       "      <th>age</th>\n",
       "      <th>gender</th>\n",
       "      <th>height</th>\n",
       "      <th>weight</th>\n",
       "      <th>frame</th>\n",
       "      <th>bp.1s</th>\n",
       "      <th>bp.1d</th>\n",
       "      <th>bp.2s</th>\n",
       "      <th>bp.2d</th>\n",
       "      <th>waist</th>\n",
       "      <th>hip</th>\n",
       "      <th>time.ppn</th>\n",
       "    </tr>\n",
       "  </thead>\n",
       "  <tbody>\n",
       "    <tr>\n",
       "      <th>0</th>\n",
       "      <td>1000</td>\n",
       "      <td>203.0</td>\n",
       "      <td>82</td>\n",
       "      <td>56.0</td>\n",
       "      <td>3.6</td>\n",
       "      <td>4.31</td>\n",
       "      <td>Buckingham</td>\n",
       "      <td>46</td>\n",
       "      <td>female</td>\n",
       "      <td>62.0</td>\n",
       "      <td>121.0</td>\n",
       "      <td>medium</td>\n",
       "      <td>118.0</td>\n",
       "      <td>59.0</td>\n",
       "      <td>NaN</td>\n",
       "      <td>NaN</td>\n",
       "      <td>29.0</td>\n",
       "      <td>38.0</td>\n",
       "      <td>720.0</td>\n",
       "    </tr>\n",
       "    <tr>\n",
       "      <th>1</th>\n",
       "      <td>1001</td>\n",
       "      <td>165.0</td>\n",
       "      <td>97</td>\n",
       "      <td>24.0</td>\n",
       "      <td>6.9</td>\n",
       "      <td>4.44</td>\n",
       "      <td>Buckingham</td>\n",
       "      <td>29</td>\n",
       "      <td>female</td>\n",
       "      <td>64.0</td>\n",
       "      <td>218.0</td>\n",
       "      <td>large</td>\n",
       "      <td>112.0</td>\n",
       "      <td>68.0</td>\n",
       "      <td>NaN</td>\n",
       "      <td>NaN</td>\n",
       "      <td>46.0</td>\n",
       "      <td>48.0</td>\n",
       "      <td>360.0</td>\n",
       "    </tr>\n",
       "    <tr>\n",
       "      <th>2</th>\n",
       "      <td>1002</td>\n",
       "      <td>228.0</td>\n",
       "      <td>92</td>\n",
       "      <td>37.0</td>\n",
       "      <td>6.2</td>\n",
       "      <td>4.64</td>\n",
       "      <td>Buckingham</td>\n",
       "      <td>58</td>\n",
       "      <td>female</td>\n",
       "      <td>61.0</td>\n",
       "      <td>256.0</td>\n",
       "      <td>large</td>\n",
       "      <td>190.0</td>\n",
       "      <td>92.0</td>\n",
       "      <td>185.0</td>\n",
       "      <td>92.0</td>\n",
       "      <td>49.0</td>\n",
       "      <td>57.0</td>\n",
       "      <td>180.0</td>\n",
       "    </tr>\n",
       "    <tr>\n",
       "      <th>3</th>\n",
       "      <td>1003</td>\n",
       "      <td>78.0</td>\n",
       "      <td>93</td>\n",
       "      <td>12.0</td>\n",
       "      <td>6.5</td>\n",
       "      <td>4.63</td>\n",
       "      <td>Buckingham</td>\n",
       "      <td>67</td>\n",
       "      <td>male</td>\n",
       "      <td>67.0</td>\n",
       "      <td>119.0</td>\n",
       "      <td>large</td>\n",
       "      <td>110.0</td>\n",
       "      <td>50.0</td>\n",
       "      <td>NaN</td>\n",
       "      <td>NaN</td>\n",
       "      <td>33.0</td>\n",
       "      <td>38.0</td>\n",
       "      <td>480.0</td>\n",
       "    </tr>\n",
       "    <tr>\n",
       "      <th>4</th>\n",
       "      <td>1005</td>\n",
       "      <td>249.0</td>\n",
       "      <td>90</td>\n",
       "      <td>28.0</td>\n",
       "      <td>8.9</td>\n",
       "      <td>7.72</td>\n",
       "      <td>Buckingham</td>\n",
       "      <td>64</td>\n",
       "      <td>male</td>\n",
       "      <td>68.0</td>\n",
       "      <td>183.0</td>\n",
       "      <td>medium</td>\n",
       "      <td>138.0</td>\n",
       "      <td>80.0</td>\n",
       "      <td>NaN</td>\n",
       "      <td>NaN</td>\n",
       "      <td>44.0</td>\n",
       "      <td>41.0</td>\n",
       "      <td>300.0</td>\n",
       "    </tr>\n",
       "    <tr>\n",
       "      <th>5</th>\n",
       "      <td>1008</td>\n",
       "      <td>248.0</td>\n",
       "      <td>94</td>\n",
       "      <td>69.0</td>\n",
       "      <td>3.6</td>\n",
       "      <td>4.81</td>\n",
       "      <td>Buckingham</td>\n",
       "      <td>34</td>\n",
       "      <td>male</td>\n",
       "      <td>71.0</td>\n",
       "      <td>190.0</td>\n",
       "      <td>large</td>\n",
       "      <td>132.0</td>\n",
       "      <td>86.0</td>\n",
       "      <td>NaN</td>\n",
       "      <td>NaN</td>\n",
       "      <td>36.0</td>\n",
       "      <td>42.0</td>\n",
       "      <td>195.0</td>\n",
       "    </tr>\n",
       "    <tr>\n",
       "      <th>6</th>\n",
       "      <td>1011</td>\n",
       "      <td>195.0</td>\n",
       "      <td>92</td>\n",
       "      <td>41.0</td>\n",
       "      <td>4.8</td>\n",
       "      <td>4.84</td>\n",
       "      <td>Buckingham</td>\n",
       "      <td>30</td>\n",
       "      <td>male</td>\n",
       "      <td>69.0</td>\n",
       "      <td>191.0</td>\n",
       "      <td>medium</td>\n",
       "      <td>161.0</td>\n",
       "      <td>112.0</td>\n",
       "      <td>161.0</td>\n",
       "      <td>112.0</td>\n",
       "      <td>46.0</td>\n",
       "      <td>49.0</td>\n",
       "      <td>720.0</td>\n",
       "    </tr>\n",
       "    <tr>\n",
       "      <th>7</th>\n",
       "      <td>1015</td>\n",
       "      <td>227.0</td>\n",
       "      <td>75</td>\n",
       "      <td>44.0</td>\n",
       "      <td>5.2</td>\n",
       "      <td>3.94</td>\n",
       "      <td>Buckingham</td>\n",
       "      <td>37</td>\n",
       "      <td>male</td>\n",
       "      <td>59.0</td>\n",
       "      <td>170.0</td>\n",
       "      <td>medium</td>\n",
       "      <td>NaN</td>\n",
       "      <td>NaN</td>\n",
       "      <td>NaN</td>\n",
       "      <td>NaN</td>\n",
       "      <td>34.0</td>\n",
       "      <td>39.0</td>\n",
       "      <td>1020.0</td>\n",
       "    </tr>\n",
       "    <tr>\n",
       "      <th>8</th>\n",
       "      <td>1016</td>\n",
       "      <td>177.0</td>\n",
       "      <td>87</td>\n",
       "      <td>49.0</td>\n",
       "      <td>3.6</td>\n",
       "      <td>4.84</td>\n",
       "      <td>Buckingham</td>\n",
       "      <td>45</td>\n",
       "      <td>male</td>\n",
       "      <td>69.0</td>\n",
       "      <td>166.0</td>\n",
       "      <td>large</td>\n",
       "      <td>160.0</td>\n",
       "      <td>80.0</td>\n",
       "      <td>128.0</td>\n",
       "      <td>86.0</td>\n",
       "      <td>34.0</td>\n",
       "      <td>40.0</td>\n",
       "      <td>300.0</td>\n",
       "    </tr>\n",
       "    <tr>\n",
       "      <th>9</th>\n",
       "      <td>1022</td>\n",
       "      <td>263.0</td>\n",
       "      <td>89</td>\n",
       "      <td>40.0</td>\n",
       "      <td>6.6</td>\n",
       "      <td>5.78</td>\n",
       "      <td>Buckingham</td>\n",
       "      <td>55</td>\n",
       "      <td>female</td>\n",
       "      <td>63.0</td>\n",
       "      <td>202.0</td>\n",
       "      <td>small</td>\n",
       "      <td>108.0</td>\n",
       "      <td>72.0</td>\n",
       "      <td>NaN</td>\n",
       "      <td>NaN</td>\n",
       "      <td>45.0</td>\n",
       "      <td>50.0</td>\n",
       "      <td>240.0</td>\n",
       "    </tr>\n",
       "  </tbody>\n",
       "</table>\n",
       "</div>"
      ],
      "text/plain": [
       "     id   chol  stab.glu   hdl  ratio  glyhb    location  age  gender  height  \\\n",
       "0  1000  203.0        82  56.0    3.6   4.31  Buckingham   46  female    62.0   \n",
       "1  1001  165.0        97  24.0    6.9   4.44  Buckingham   29  female    64.0   \n",
       "2  1002  228.0        92  37.0    6.2   4.64  Buckingham   58  female    61.0   \n",
       "3  1003   78.0        93  12.0    6.5   4.63  Buckingham   67    male    67.0   \n",
       "4  1005  249.0        90  28.0    8.9   7.72  Buckingham   64    male    68.0   \n",
       "5  1008  248.0        94  69.0    3.6   4.81  Buckingham   34    male    71.0   \n",
       "6  1011  195.0        92  41.0    4.8   4.84  Buckingham   30    male    69.0   \n",
       "7  1015  227.0        75  44.0    5.2   3.94  Buckingham   37    male    59.0   \n",
       "8  1016  177.0        87  49.0    3.6   4.84  Buckingham   45    male    69.0   \n",
       "9  1022  263.0        89  40.0    6.6   5.78  Buckingham   55  female    63.0   \n",
       "\n",
       "   weight   frame  bp.1s  bp.1d  bp.2s  bp.2d  waist   hip  time.ppn  \n",
       "0   121.0  medium  118.0   59.0    NaN    NaN   29.0  38.0     720.0  \n",
       "1   218.0   large  112.0   68.0    NaN    NaN   46.0  48.0     360.0  \n",
       "2   256.0   large  190.0   92.0  185.0   92.0   49.0  57.0     180.0  \n",
       "3   119.0   large  110.0   50.0    NaN    NaN   33.0  38.0     480.0  \n",
       "4   183.0  medium  138.0   80.0    NaN    NaN   44.0  41.0     300.0  \n",
       "5   190.0   large  132.0   86.0    NaN    NaN   36.0  42.0     195.0  \n",
       "6   191.0  medium  161.0  112.0  161.0  112.0   46.0  49.0     720.0  \n",
       "7   170.0  medium    NaN    NaN    NaN    NaN   34.0  39.0    1020.0  \n",
       "8   166.0   large  160.0   80.0  128.0   86.0   34.0  40.0     300.0  \n",
       "9   202.0   small  108.0   72.0    NaN    NaN   45.0  50.0     240.0  "
      ]
     },
     "execution_count": 2,
     "metadata": {},
     "output_type": "execute_result"
    }
   ],
   "source": [
    "# get sample data\n",
    "# for CSV\n",
    "url_data = \"http://biostat.mc.vanderbilt.edu/wiki/pub/Main/DataSets/diabetes.csv\"\n",
    "r = requests.get(url_data).content\n",
    "df = pd.read_csv(io.StringIO(r.decode('utf-8')))\n",
    "df.head(10)"
   ]
  },
  {
   "cell_type": "markdown",
   "metadata": {},
   "source": [
    "bp.1s and bp.2s are systolic blood pressure measurements taken from the same individual 10 minutes apart. There should be little difference in the measurements, since the time difference from which they are taken is so small. However, let's test that using a **paired, two sample t-test**."
   ]
  },
  {
   "cell_type": "code",
   "execution_count": 26,
   "metadata": {},
   "outputs": [
    {
     "data": {
      "image/png": "[encoded data removed]",
      "text/plain": [
       "<Figure size 432x288 with 1 Axes>"
      ]
     },
     "metadata": {
      "needs_background": "light"
     },
     "output_type": "display_data"
    }
   ],
   "source": [
    "df[['bp.1s','bp.2s','bp.1d','bp.2d']].plot.hist(alpha=0.5, bins=20);"
   ]
  },
  {
   "cell_type": "code",
   "execution_count": 47,
   "metadata": {},
   "outputs": [],
   "source": [
    "from scipy.stats import ttest_rel\n",
    "dft = df[['bp.1s','bp.2s']].dropna(how='any')\n",
    "\n",
    "a = dft['bp.1s'].values\n",
    "b = dft['bp.2s'].values"
   ]
  },
  {
   "cell_type": "code",
   "execution_count": 48,
   "metadata": {},
   "outputs": [
    {
     "data": {
      "image/png": "[encoded data removed]",
      "text/plain": [
       "<Figure size 432x288 with 1 Axes>"
      ]
     },
     "metadata": {
      "needs_background": "light"
     },
     "output_type": "display_data"
    }
   ],
   "source": [
    "dft.plot.scatter(x='bp.1s', y='bp.2s');"
   ]
  },
  {
   "cell_type": "code",
   "execution_count": 49,
   "metadata": {},
   "outputs": [
    {
     "name": "stdout",
     "output_type": "stream",
     "text": [
      "154.75886524822695 20.755209790896153\n",
      "152.38297872340425 21.63581859894272\n"
     ]
    }
   ],
   "source": [
    "print(a.mean(), a.std())\n",
    "print(b.mean(), b.std())"
   ]
  },
  {
   "cell_type": "code",
   "execution_count": 50,
   "metadata": {},
   "outputs": [
    {
     "data": {
      "image/png": "[encoded data removed]",
      "text/plain": [
       "<Figure size 432x288 with 1 Axes>"
      ]
     },
     "metadata": {
      "needs_background": "light"
     },
     "output_type": "display_data"
    }
   ],
   "source": [
    "# first let's plot a histogram to get a sense of the scale\n",
    "import seaborn as sns\n",
    "dft.plot.hist(alpha=0.5, bins=20);\n",
    "plt.legend();"
   ]
  },
  {
   "cell_type": "code",
   "execution_count": 51,
   "metadata": {},
   "outputs": [
    {
     "name": "stdout",
     "output_type": "stream",
     "text": [
      "141\n"
     ]
    }
   ],
   "source": [
    "n_samples = len(dft)\n",
    "print(n_samples)"
   ]
  },
  {
   "cell_type": "markdown",
   "metadata": {},
   "source": [
    "141 samples so the CLT should hold for this sample set. "
   ]
  },
  {
   "cell_type": "code",
   "execution_count": 52,
   "metadata": {},
   "outputs": [
    {
     "name": "stdout",
     "output_type": "stream",
     "text": [
      "2.581007266995989 0.01087975189907892\n"
     ]
    }
   ],
   "source": [
    "statistic, pvalue = ttest_rel(a, b)\n",
    "print(statistic, pvalue)"
   ]
  },
  {
   "cell_type": "code",
   "execution_count": 53,
   "metadata": {},
   "outputs": [
    {
     "name": "stdout",
     "output_type": "stream",
     "text": [
      "0.02175950379815784\n"
     ]
    }
   ],
   "source": [
    "two_sided_pvalue = pvalue * 2\n",
    "print(two_sided_pvalue)"
   ]
  },
  {
   "cell_type": "markdown",
   "metadata": {},
   "source": [
    "p < 0.05, so these results are significant, and we can reject the Null hypothesis that there is no difference in the blood pressure measurements, and **accept the null hypothesis which states that the means of the two blood pressure measurements are significantly different and represent two different populations.**"
   ]
  },
  {
   "cell_type": "markdown",
   "metadata": {},
   "source": [
    "Just for kicks, let's use a independent t-test, just to see what values we get."
   ]
  },
  {
   "cell_type": "code",
   "execution_count": 54,
   "metadata": {},
   "outputs": [
    {
     "name": "stdout",
     "output_type": "stream",
     "text": [
      "0.93764203909265 0.6984729246412653\n"
     ]
    }
   ],
   "source": [
    "statistic, pvalue = scipy.stats.ttest_ind(a, b)\n",
    "two_sided_pvalue = pvalue * 2\n",
    "print(statistic, two_sided_pvalue)"
   ]
  },
  {
   "cell_type": "markdown",
   "metadata": {},
   "source": [
    "Wow, a wildly difference p-value. We now accept the null hypothesis that the two samples come from the same population and have the same mean."
   ]
  },
  {
   "cell_type": "markdown",
   "metadata": {},
   "source": [
    "Let's compute confidence intervals for the difference in means between the two samples, first assuming they are **paired** (dependent), and then assuming they are **un-paired** (independent)."
   ]
  },
  {
   "cell_type": "markdown",
   "metadata": {},
   "source": [
    "### Paired 95% CI for the True Difference Between the Underlying Means of Two Paired Samples (Two-Sided)\n",
    "\n",
    "From page 282 of **Fundamentals of Biostatistics, 8th Edition, by Bernard Rosner**:\n",
    "\n",
    "95% CI = $(\\hat{d} − t_{n−1,1−α/2} s_d/\\sqrt n,  \\hat{d} + t_{n−1,1−α/2} s_d/\\sqrt n)$\n",
    "\n",
    "$s_{d}=\\sqrt{\\left[\\sum_{i=1}^{n} d_{i}^{2}-\\left(\\sum_{i=1}^{n} d_{i}\\right)^{2} / n\\right] /(n-1)}$"
   ]
  },
  {
   "cell_type": "code",
   "execution_count": 64,
   "metadata": {},
   "outputs": [],
   "source": [
    "d = a-b\n",
    "d_hat = d.mean()\n",
    "s_d = np.sqrt((sum(d**2) - sum(d)**2 / n_samples) / (n_samples - 1))\n",
    "\n",
    "dof = n_samples - 1 # calculate degrees of freedom\n",
    "rv = scipy.stats.t(dof) # instantiate A Student’s t continuous random variable\n",
    "t = rv.ppf(0.975)\n",
    "\n",
    "print(\"Mean difference = \", d_hat)\n",
    "\n",
    "ci = (d_hat - t * s_d / np.sqrt(n_samples), d_hat + t * s_d / np.sqrt(n_samples))\n",
    "print(\"95% CI = \", ci)"
   ]
  },
  {
   "cell_type": "markdown",
   "metadata": {},
   "source": [
    "Notice that hte 95% CI does not include 0, which reflects the result of our hypothesis test, which came back as significantly different for the paired case."
   ]
  },
  {
   "cell_type": "markdown",
   "metadata": {},
   "source": [
    "### Un-Paired 95% CI"
   ]
  },
  {
   "cell_type": "markdown",
   "metadata": {},
   "source": [
    "From page 282 of **Fundamentals of Biostatistics, 8th Edition, by Bernard Rosner**:\n",
    "\n",
    "95% CI = $(\\hat{x_1} - \\hat{x_2} − t_{n_1+n_2-2,1−α/2} s/\\sqrt{1/n_1 + 1/n_2},  \\hat{x_1} - \\hat{x_2} + t_{n_1+n_2-2,1−α/2} s/\\sqrt{1/n_1 + 1/n_2}$\n",
    "\n",
    "$s = \\sqrt{((n_1 - 1)s_1^2 + (n_2 - 1)s_2^2) / (n_1 + n_2 - 2}$"
   ]
  },
  {
   "cell_type": "code",
   "execution_count": 75,
   "metadata": {},
   "outputs": [
    {
     "name": "stdout",
     "output_type": "stream",
     "text": [
      "95% CI =  (-4064.4553926162353, 4069.207165665881)\n"
     ]
    }
   ],
   "source": [
    "dof = len(a) + len(b) - 2\n",
    "rv = scipy.stats.t(dof) # instantiate A Student’s t continuous random variable\n",
    "t = rv.ppf(0.975)\n",
    "\n",
    "s = np.sqrt((len(a) - 1)*a.std()**2 + (len(b) - 1)*b.std()**2 / (len(a) + len(b) - 2))\n",
    "se = s / np.sqrt(1/len(a) + 1/len(b))\n",
    "\n",
    "ci = (a.mean() - b.mean() - t * se, a.mean() - b.mean() + t * se)\n",
    "print(\"95% CI = \", ci)"
   ]
  },
  {
   "cell_type": "markdown",
   "metadata": {},
   "source": [
    "Use test data from **Fundamentals of Biostatistics, 8th Edition, by Bernard Rosner**, table 8.1:"
   ]
  },
  {
   "cell_type": "code",
   "execution_count": 77,
   "metadata": {},
   "outputs": [
    {
     "name": "stdout",
     "output_type": "stream",
     "text": [
      "-3.324651095085193 0.008874336881492044\n"
     ]
    }
   ],
   "source": [
    "a = [115, 112, 107, 119, 115, 138, 126, 105, 104, 115]\n",
    "b = [128, 115, 106, 128, 122, 145, 132, 109, 102, 117]\n",
    "\n",
    "statistic, pvalue = ttest_rel(a, b)\n",
    "print(statistic, pvalue)"
   ]
  }
 ],
 "metadata": {
  "kernelspec": {
   "display_name": "Python 3",
   "language": "python",
   "name": "python3"
  },
  "language_info": {
   "codemirror_mode": {
    "name": "ipython",
    "version": 3
   },
   "file_extension": ".py",
   "mimetype": "text/x-python",
   "name": "python",
   "nbconvert_exporter": "python",
   "pygments_lexer": "ipython3",
   "version": "3.7.9"
  }
 },
 "nbformat": 4,
 "nbformat_minor": 4
}
