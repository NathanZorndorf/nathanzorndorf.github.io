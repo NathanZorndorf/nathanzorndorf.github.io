{
 "cells": [
  {
   "cell_type": "markdown",
   "metadata": {},
   "source": [
    "# Lesson 1: Overview of ANOVA\n",
    "\n",
    "## The Working Hypothesis\n",
    "\n",
    "According to the **Popperian Principle of Falsification**, we can't conclusively affirm a hypothesis, but we can conclusively negate a hypothesis. So we need to translate the working hypothesis into a framework wherein we state a null hypothesis.\n",
    "\n",
    "## The 7 Step Process of Statistical Hypothesis Testing\n",
    "\n",
    "1. State H0\n",
    "2. State Ha\n",
    "3. Set $\\alpha$\n",
    "4. Collect data \n",
    "5. Calculate test statistic\n",
    "6. Determine critical value for test statistic (construct acceptance & rejection region of model distribution)\n",
    "7. Calculate p-value and draw conclusion about H0 "
   ]
  },
  {
   "cell_type": "markdown",
   "metadata": {},
   "source": [
    "# One-Way ANOVA - Fixed-Effects Model\n",
    "\n",
    "$y_{i j}=\\mu+\\alpha_{i}+e_{i j}$\n",
    "\n",
    "1. $\\mu$ is the underlying mean of all groups taken together\n",
    "2. $\\alpha_{i}$ represents the difference between the mean of the ith group and the over-all mean.\n",
    "3. eij represents random error about the mean μ + αi for an individual observation from the ith group."
   ]
  },
  {
   "cell_type": "markdown",
   "metadata": {},
   "source": [
    "# HypothesIs Testing in One-Way ANOVA - Fixed-Effects Model\n",
    "\n",
    "- H0: all αi = 0\n",
    "- Ha: at least one αi ≠ 0\n",
    "\n",
    "The deviation of an individual observation from the overall mean can be represented as:\n",
    "$$y_{i j}-\\overline{\\bar{y}}=\\left(y_{i j}-\\bar{y}_{i}\\right)+\\left(\\bar{y}_{i}-\\overline{\\bar{y}}\\right)$$\n",
    "\n",
    "The term\n",
    "$$\n",
    "\\sum_{i=1}^{k} \\sum_{j=1}^{n_{i}}\\left(y_{i j}-\\overline{\\bar{y}}\\right)^{2}\n",
    "$$\n",
    "is called the Total Sum of Squares (Total SS).\n",
    "The term\n",
    "$$\n",
    "\\sum_{i=1}^{k} \\sum_{j=1}^{n_{i}}\\left(y_{i j}-\\bar{y}_{i}\\right)^{2}\n",
    "$$\n",
    "is called the Within Sum of Squares (Within SS).\n",
    "The term\n",
    "$$\n",
    "\\sum_{i=1}^{k} \\sum_{j=1}^{n_{i}}\\left(\\bar{y}_{i}-\\overline{\\bar{y}}\\right)^{2}\n",
    "$$\n",
    "is called the Between Sum of Squares (Between SS)."
   ]
  },
  {
   "cell_type": "markdown",
   "metadata": {},
   "source": [
    "# Assumptions of ANOVA\n",
    "\n",
    "1. Error terms are normally distributed with mean 0 and constant variance $\\sigma^2$"
   ]
  },
  {
   "cell_type": "code",
   "execution_count": null,
   "metadata": {},
   "outputs": [],
   "source": []
  }
 ],
 "metadata": {
  "kernelspec": {
   "display_name": "Python 3",
   "language": "python",
   "name": "python3"
  },
  "language_info": {
   "codemirror_mode": {
    "name": "ipython",
    "version": 3
   },
   "file_extension": ".py",
   "mimetype": "text/x-python",
   "name": "python",
   "nbconvert_exporter": "python",
   "pygments_lexer": "ipython3",
   "version": "3.8.3"
  }
 },
 "nbformat": 4,
 "nbformat_minor": 4
}
